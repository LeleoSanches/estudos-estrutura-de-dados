{
 "cells": [
  {
   "cell_type": "code",
   "execution_count": 49,
   "id": "cdf5f244-a919-4768-b49e-c88a2ed9d4f4",
   "metadata": {},
   "outputs": [],
   "source": [
    "class No:\n",
    "    def __init__(self, valor):\n",
    "        self.valor = valor\n",
    "        self.esquerda = None\n",
    "        self.direita = None\n",
    "        \n",
    "    def mostra_no(self):\n",
    "        print(self.valor)\n",
    "        \n",
    "class ArvoreBinariaBusca:\n",
    "    def __init__(self):\n",
    "        self.raiz = None\n",
    "        self.ligacoes = []\n",
    "        \n",
    "    def inserir(self, valor):\n",
    "        novo = No(valor)\n",
    "        if self.raiz == None:\n",
    "            self.raiz = novo\n",
    "        else:\n",
    "            atual = self.raiz\n",
    "            while True:\n",
    "                pai = atual\n",
    "                #Esquerda\n",
    "                if valor < atual.valor:\n",
    "                    atual = atual.esquerda\n",
    "                    if atual == None:\n",
    "                        pai.esquerda = novo\n",
    "                        self.ligacoes.append(str(pai.valor) + '->' +str(novo.valor))\n",
    "                        return\n",
    "                #Direita\n",
    "                else:\n",
    "                    atual = atual.direita\n",
    "                    if atual == None:\n",
    "                        pai.direita = novo\n",
    "                        self.ligacoes.append(str(pai.valor) + '->' +str(novo.valor))\n",
    "                        return\n",
    "    \n",
    "    def pesquisar(self,valor):\n",
    "        atual = self.raiz\n",
    "        while atual.valor != valor:\n",
    "            if valor < atual.valor:\n",
    "                atual = atual.esquerda\n",
    "            else:\n",
    "                atual = atual.direita\n",
    "            if atual == None:\n",
    "                return None\n",
    "        return atual\n",
    "    \n",
    "    def pre_ordem(self, no):\n",
    "        if no != None:\n",
    "            print(no.valor)\n",
    "            self.pre_ordem(no.esquerda)\n",
    "            self.pre_ordem(no.direita)\n",
    "    \n",
    "    def em_ordem(self, no):\n",
    "        if no != None:\n",
    "            self.em_ordem(no.esquerda)\n",
    "            print(no.valor)\n",
    "            self.em_ordem(no.direita)\n",
    "            \n",
    "    def pos_ordem(self, no):\n",
    "        if no != None:\n",
    "            self.pos_ordem(no.esquerda)\n",
    "            self.pos_ordem(no.direita)\n",
    "            print(no.valor)\n",
    "            \n",
    "    def excluir(self, valor):\n",
    "        if self.raiz == None:\n",
    "            print(\"Arvore Vazia\")\n",
    "            return\n",
    "        #Encontrar nó\n",
    "        atual = self.raiz\n",
    "        pai = self.raiz\n",
    "        e_esquerda = True\n",
    "        while atual.valor != valor:\n",
    "            pai = atual\n",
    "            if valor<atual.valor:\n",
    "                e_esquerda = True\n",
    "                atual = atual.esquerda\n",
    "            else:\n",
    "                e_esquerda = False\n",
    "                atual = atual.direita\n",
    "            if atual == None:\n",
    "                return False\n",
    "            \n",
    "        # Folha\n",
    "        if atual.esquerda == None and atual.direita == None:\n",
    "            if atual == self.raiz:\n",
    "                self.raiz = None\n",
    "            elif e_esquerda == True:\n",
    "                pai.esquerda = None\n",
    "            else:\n",
    "                pai.direita = None\n",
    "        # Nó com apenas 1 filho na esquerda\n",
    "        elif atual.direita == None:\n",
    "            if atual == self.raiz:\n",
    "                self.raiz = atual.esquerda\n",
    "            elif e_esquerda == True:\n",
    "                pai.esquerda = atual.esquerda\n",
    "            else:\n",
    "                pai.direita = atual.esquerda\n",
    "        # No com apenas 1 filho na direita\n",
    "        elif atual.esquerda == None:\n",
    "            if atual == self.raiz:\n",
    "                self.raiz = atual.direita\n",
    "            elif e_esquerda == True:\n",
    "                pai.esquerda = atual.direita\n",
    "            else:\n",
    "                pai.direita = atual.direita\n",
    "        # No com 2 filhos\n",
    "        else:\n",
    "            sucessor = self.get_sucessor(atual)\n",
    "            if atual == self.raiz:\n",
    "                self.raiz = sucessor\n",
    "            elif e_esquerda == True:\n",
    "                pai.esquerda = sucessor\n",
    "            else:\n",
    "                pai.direita = sucessor\n",
    "            sucessor.esquerda = atual.esquerda\n",
    "        return True\n",
    "    \n",
    "    def get_sucessor(self, no):\n",
    "        pai_sucessor = no\n",
    "        sucessor = no\n",
    "        atual = no.direita\n",
    "        while atual != None:\n",
    "            pai_sucessor = sucessor\n",
    "            sucessor = atual\n",
    "            atual = atual.esquerda\n",
    "        if sucessor != no.direita:\n",
    "            pai_sucessor.esquerda = sucessor.direita\n",
    "            sucessor.direita = no.direita\n",
    "            return sucessor"
   ]
  },
  {
   "cell_type": "code",
   "execution_count": 50,
   "id": "faaee667-115b-494e-8f5a-6ab166b42ef0",
   "metadata": {},
   "outputs": [],
   "source": [
    "arvore = ArvoreBinariaBusca()\n",
    "arvore.inserir(53)\n",
    "arvore.inserir(30)\n",
    "arvore.inserir(14)\n",
    "arvore.inserir(39)\n",
    "arvore.inserir(9)\n",
    "arvore.inserir(23)\n",
    "arvore.inserir(34)\n",
    "arvore.inserir(49)\n",
    "arvore.inserir(72)\n",
    "arvore.inserir(61)\n",
    "arvore.inserir(84)\n",
    "arvore.inserir(79)"
   ]
  },
  {
   "cell_type": "code",
   "execution_count": 40,
   "id": "6809f4d1-82ed-4ff5-9a45-59eefa50a25c",
   "metadata": {},
   "outputs": [
    {
     "data": {
      "text/plain": [
       "30"
      ]
     },
     "execution_count": 40,
     "metadata": {},
     "output_type": "execute_result"
    }
   ],
   "source": [
    "arvore.raiz.esquerda.valor"
   ]
  },
  {
   "cell_type": "code",
   "execution_count": 41,
   "id": "328ba734-1839-4943-815d-4f0c95c2927d",
   "metadata": {},
   "outputs": [
    {
     "data": {
      "text/plain": [
       "72"
      ]
     },
     "execution_count": 41,
     "metadata": {},
     "output_type": "execute_result"
    }
   ],
   "source": [
    "arvore.raiz.direita.valor"
   ]
  },
  {
   "cell_type": "code",
   "execution_count": 42,
   "id": "da840986-fe56-4f8e-b927-2420f60dfc9b",
   "metadata": {},
   "outputs": [
    {
     "data": {
      "text/plain": [
       "['53->30',\n",
       " '30->14',\n",
       " '30->39',\n",
       " '14->9',\n",
       " '14->23',\n",
       " '39->34',\n",
       " '39->49',\n",
       " '53->72',\n",
       " '72->61',\n",
       " '72->84',\n",
       " '84->79']"
      ]
     },
     "execution_count": 42,
     "metadata": {},
     "output_type": "execute_result"
    }
   ],
   "source": [
    "arvore.ligacoes"
   ]
  },
  {
   "cell_type": "code",
   "execution_count": 43,
   "id": "59f6b7b6-77fa-4ac2-b007-f2d4959037ff",
   "metadata": {},
   "outputs": [
    {
     "data": {
      "text/plain": [
       "<__main__.No at 0x7fce1dcdaf50>"
      ]
     },
     "execution_count": 43,
     "metadata": {},
     "output_type": "execute_result"
    }
   ],
   "source": [
    "arvore.pesquisar(9)"
   ]
  },
  {
   "cell_type": "markdown",
   "id": "dd9037e8-db46-45db-bd6d-c5c9ebe905fa",
   "metadata": {},
   "source": [
    "### Pre Ordem"
   ]
  },
  {
   "cell_type": "code",
   "execution_count": 44,
   "id": "c1c1b3a0-7278-45af-96cb-7e56830c4fed",
   "metadata": {},
   "outputs": [
    {
     "name": "stdout",
     "output_type": "stream",
     "text": [
      "53\n",
      "30\n",
      "14\n",
      "9\n",
      "23\n",
      "39\n",
      "34\n",
      "49\n",
      "72\n",
      "61\n",
      "84\n",
      "79\n"
     ]
    }
   ],
   "source": [
    "arvore.pre_ordem(arvore.raiz)"
   ]
  },
  {
   "cell_type": "markdown",
   "id": "a01f9293-df45-4b98-bb42-eb79eee16ee9",
   "metadata": {},
   "source": [
    "### Em Ordem"
   ]
  },
  {
   "cell_type": "code",
   "execution_count": 27,
   "id": "90dd0f7a-a941-4393-9268-44bdfbf131ca",
   "metadata": {},
   "outputs": [
    {
     "name": "stdout",
     "output_type": "stream",
     "text": [
      "9\n",
      "14\n",
      "23\n",
      "30\n",
      "34\n",
      "39\n",
      "49\n",
      "53\n",
      "61\n",
      "72\n",
      "79\n",
      "84\n"
     ]
    }
   ],
   "source": [
    "arvore.em_ordem(arvore.raiz)"
   ]
  },
  {
   "cell_type": "markdown",
   "id": "3033d42c-5fcc-4d9e-b268-d63eb6712322",
   "metadata": {},
   "source": [
    "### Pos Ordem"
   ]
  },
  {
   "cell_type": "code",
   "execution_count": 28,
   "id": "5a4253f7-eda2-4f53-b3d8-3c78220e5df0",
   "metadata": {},
   "outputs": [
    {
     "name": "stdout",
     "output_type": "stream",
     "text": [
      "9\n",
      "23\n",
      "14\n",
      "34\n",
      "49\n",
      "39\n",
      "30\n",
      "61\n",
      "79\n",
      "84\n",
      "72\n",
      "53\n"
     ]
    }
   ],
   "source": [
    "arvore.pos_ordem(arvore.raiz)"
   ]
  },
  {
   "cell_type": "markdown",
   "id": "b543d80f-1aac-4cfa-9a40-1b6317af930a",
   "metadata": {},
   "source": [
    "### Excluir"
   ]
  },
  {
   "cell_type": "code",
   "execution_count": 35,
   "id": "f1a2e573-b7b1-494b-8bb0-aa70ca36d42d",
   "metadata": {},
   "outputs": [
    {
     "data": {
      "text/plain": [
       "['53->30',\n",
       " '30->14',\n",
       " '30->39',\n",
       " '14->23',\n",
       " '39->34',\n",
       " '39->49',\n",
       " '53->72',\n",
       " '72->61',\n",
       " '72->84',\n",
       " '84->79']"
      ]
     },
     "execution_count": 35,
     "metadata": {},
     "output_type": "execute_result"
    }
   ],
   "source": [
    "arvore.excluir(9)\n",
    "arvore.ligacoes"
   ]
  },
  {
   "cell_type": "code",
   "execution_count": 36,
   "id": "f9094d75-ed51-4e45-8a83-b5c2ef0a3897",
   "metadata": {},
   "outputs": [
    {
     "data": {
      "text/plain": [
       "['53->30',\n",
       " '30->14',\n",
       " '30->39',\n",
       " '14->23',\n",
       " '39->34',\n",
       " '39->49',\n",
       " '53->72',\n",
       " '72->61',\n",
       " '72->84']"
      ]
     },
     "execution_count": 36,
     "metadata": {},
     "output_type": "execute_result"
    }
   ],
   "source": [
    "arvore.excluir(79)\n",
    "arvore.ligacoes"
   ]
  },
  {
   "cell_type": "code",
   "execution_count": 48,
   "id": "5d924d21-4fe8-490d-89dd-4f5309c616cb",
   "metadata": {},
   "outputs": [
    {
     "name": "stdout",
     "output_type": "stream",
     "text": [
      "23\n",
      "30\n",
      "34\n",
      "39\n",
      "49\n",
      "53\n",
      "61\n",
      "72\n",
      "79\n"
     ]
    }
   ],
   "source": [
    "arvore.excluir(84)\n",
    "arvore.excluir(9)\n",
    "arvore.excluir(14)\n",
    "arvore.em_ordem(arvore.raiz)"
   ]
  },
  {
   "cell_type": "code",
   "execution_count": 51,
   "id": "0eed4048-dd0a-411b-bf56-55892e4720f3",
   "metadata": {},
   "outputs": [
    {
     "name": "stdout",
     "output_type": "stream",
     "text": [
      "53\n",
      "30\n",
      "14\n",
      "9\n",
      "23\n",
      "39\n",
      "34\n",
      "49\n",
      "79\n",
      "61\n",
      "84\n"
     ]
    }
   ],
   "source": [
    "arvore.excluir(72)\n",
    "arvore.pre_ordem(arvore.raiz)"
   ]
  },
  {
   "cell_type": "code",
   "execution_count": null,
   "id": "5c9b4570-4b51-4d8b-9236-2400ac9650de",
   "metadata": {},
   "outputs": [],
   "source": []
  }
 ],
 "metadata": {
  "kernelspec": {
   "display_name": "Python 3 (ipykernel)",
   "language": "python",
   "name": "python3"
  },
  "language_info": {
   "codemirror_mode": {
    "name": "ipython",
    "version": 3
   },
   "file_extension": ".py",
   "mimetype": "text/x-python",
   "name": "python",
   "nbconvert_exporter": "python",
   "pygments_lexer": "ipython3",
   "version": "3.11.0"
  }
 },
 "nbformat": 4,
 "nbformat_minor": 5
}
