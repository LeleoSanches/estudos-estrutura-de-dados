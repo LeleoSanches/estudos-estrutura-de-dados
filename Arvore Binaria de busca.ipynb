{
 "cells": [
  {
   "cell_type": "code",
   "execution_count": 16,
   "id": "cdf5f244-a919-4768-b49e-c88a2ed9d4f4",
   "metadata": {},
   "outputs": [],
   "source": [
    "class No:\n",
    "    def __init__(self, valor):\n",
    "        self.valor = valor\n",
    "        self.esquerda = None\n",
    "        self.direita = None\n",
    "        \n",
    "    def mostra_no(self):\n",
    "        print(self.valor)\n",
    "        \n",
    "class ArvoreBinariaBusca:\n",
    "    def __init__(self):\n",
    "        self.raiz = None\n",
    "        self.ligacoes = []\n",
    "        \n",
    "    def inserir(self, valor):\n",
    "        novo = No(valor)\n",
    "        if self.raiz == None:\n",
    "            self.raiz = novo\n",
    "        else:\n",
    "            atual = self.raiz\n",
    "            while True:\n",
    "                pai = atual\n",
    "                #Esquerda\n",
    "                if valor < atual.valor:\n",
    "                    atual = atual.esquerda\n",
    "                    if atual == None:\n",
    "                        pai.esquerda = novo\n",
    "                        self.ligacoes.append(str(pai.valor) + '->' +str(novo.valor))\n",
    "                        return\n",
    "                #Direita\n",
    "                else:\n",
    "                    atual = atual.direita\n",
    "                    if atual == None:\n",
    "                        pai.direita = novo\n",
    "                        self.ligacoes.append(str(pai.valor) + '->' +str(novo.valor))\n",
    "                        return\n",
    "    \n",
    "    def pesquisar(self,valor):\n",
    "        atual = self.raiz\n",
    "        while atual.valor != valor:\n",
    "            if valor < atual.valor:\n",
    "                atual = atual.esquerda\n",
    "            else:\n",
    "                atual = atual.direita\n",
    "            if atual == None:\n",
    "                return None\n",
    "        return atual\n",
    "    \n",
    "    def pre_ordem(self, no):\n",
    "        if no != None:\n",
    "            print(no.valor)\n",
    "            self.pre_ordem(no.esquerda)\n",
    "            self.pre_ordem(no.direita)"
   ]
  },
  {
   "cell_type": "code",
   "execution_count": 17,
   "id": "faaee667-115b-494e-8f5a-6ab166b42ef0",
   "metadata": {},
   "outputs": [],
   "source": [
    "arvore = ArvoreBinariaBusca()\n",
    "arvore.inserir(53)\n",
    "arvore.inserir(30)\n",
    "arvore.inserir(14)\n",
    "arvore.inserir(39)\n",
    "arvore.inserir(9)\n",
    "arvore.inserir(23)\n",
    "arvore.inserir(34)\n",
    "arvore.inserir(49)\n",
    "arvore.inserir(72)\n",
    "arvore.inserir(61)\n",
    "arvore.inserir(84)\n",
    "arvore.inserir(79)"
   ]
  },
  {
   "cell_type": "code",
   "execution_count": 18,
   "id": "6809f4d1-82ed-4ff5-9a45-59eefa50a25c",
   "metadata": {},
   "outputs": [
    {
     "data": {
      "text/plain": [
       "30"
      ]
     },
     "execution_count": 18,
     "metadata": {},
     "output_type": "execute_result"
    }
   ],
   "source": [
    "arvore.raiz.esquerda.valor"
   ]
  },
  {
   "cell_type": "code",
   "execution_count": 19,
   "id": "328ba734-1839-4943-815d-4f0c95c2927d",
   "metadata": {},
   "outputs": [
    {
     "data": {
      "text/plain": [
       "72"
      ]
     },
     "execution_count": 19,
     "metadata": {},
     "output_type": "execute_result"
    }
   ],
   "source": [
    "arvore.raiz.direita.valor"
   ]
  },
  {
   "cell_type": "code",
   "execution_count": 20,
   "id": "da840986-fe56-4f8e-b927-2420f60dfc9b",
   "metadata": {},
   "outputs": [
    {
     "data": {
      "text/plain": [
       "['53->30',\n",
       " '30->14',\n",
       " '30->39',\n",
       " '14->9',\n",
       " '14->23',\n",
       " '39->34',\n",
       " '39->49',\n",
       " '53->72',\n",
       " '72->61',\n",
       " '72->84',\n",
       " '84->79']"
      ]
     },
     "execution_count": 20,
     "metadata": {},
     "output_type": "execute_result"
    }
   ],
   "source": [
    "arvore.ligacoes"
   ]
  },
  {
   "cell_type": "code",
   "execution_count": 21,
   "id": "59f6b7b6-77fa-4ac2-b007-f2d4959037ff",
   "metadata": {},
   "outputs": [
    {
     "data": {
      "text/plain": [
       "<__main__.No at 0x7f0938025e50>"
      ]
     },
     "execution_count": 21,
     "metadata": {},
     "output_type": "execute_result"
    }
   ],
   "source": [
    "arvore.pesquisar(9)"
   ]
  },
  {
   "cell_type": "code",
   "execution_count": 22,
   "id": "c1c1b3a0-7278-45af-96cb-7e56830c4fed",
   "metadata": {},
   "outputs": [
    {
     "name": "stdout",
     "output_type": "stream",
     "text": [
      "53\n",
      "30\n",
      "14\n",
      "9\n",
      "23\n",
      "39\n",
      "34\n",
      "49\n",
      "72\n",
      "61\n",
      "84\n",
      "79\n"
     ]
    }
   ],
   "source": [
    "arvore.pre_ordem(arvore.raiz)"
   ]
  },
  {
   "cell_type": "code",
   "execution_count": null,
   "id": "90dd0f7a-a941-4393-9268-44bdfbf131ca",
   "metadata": {},
   "outputs": [],
   "source": []
  }
 ],
 "metadata": {
  "kernelspec": {
   "display_name": "Python 3 (ipykernel)",
   "language": "python",
   "name": "python3"
  },
  "language_info": {
   "codemirror_mode": {
    "name": "ipython",
    "version": 3
   },
   "file_extension": ".py",
   "mimetype": "text/x-python",
   "name": "python",
   "nbconvert_exporter": "python",
   "pygments_lexer": "ipython3",
   "version": "3.11.0"
  }
 },
 "nbformat": 4,
 "nbformat_minor": 5
}
