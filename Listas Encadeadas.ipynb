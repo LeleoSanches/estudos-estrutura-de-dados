{
 "cells": [
  {
   "cell_type": "code",
   "execution_count": 1,
   "id": "7c7625e6-4d04-4230-ab41-1ab5c55a2290",
   "metadata": {},
   "outputs": [],
   "source": [
    "import numpy as np\n"
   ]
  },
  {
   "cell_type": "code",
   "execution_count": 103,
   "id": "cc73b4cc-5d22-4adf-ab9d-ba643f5f31fc",
   "metadata": {},
   "outputs": [],
   "source": [
    "class No:\n",
    "    def __init__(self, valor):\n",
    "        self.valor = valor\n",
    "        self.proximo = None\n",
    "        \n",
    "    def mostra_no(self):\n",
    "        print(self.valor)\n",
    "        \n",
    "class ListaEncadeada:\n",
    "    def __init__(self):\n",
    "        self.primeiro = None\n",
    "        \n",
    "    def insere_inicio(self, valor):\n",
    "        novo = No(valor)\n",
    "        novo.proximo = self.primeiro\n",
    "        self.primeiro = novo\n",
    "        \n",
    "    def mostrar(self):\n",
    "        if self.primeiro == None:\n",
    "            print('A lista está vazia')\n",
    "            return None\n",
    "        atual = self.primeiro\n",
    "        while atual != None:\n",
    "            atual.mostra_no()\n",
    "            atual = atual.proximo\n",
    "    \n",
    "    def excluir_inicio(self):\n",
    "        if self.primeiro == None:\n",
    "            print('A lista está vazia')\n",
    "            return None\n",
    "        temp = self.primeiro\n",
    "\n",
    "        self.primeiro = self.primeiro.proximo\n",
    "        return temp\n",
    "    \n",
    "    def pesquisa(self,valor):\n",
    "        if self.primeiro == None:\n",
    "            print('A lista está vazia')\n",
    "            return None\n",
    "        \n",
    "        atual = self.primeiro\n",
    "        while atual.valor != valor:\n",
    "            if atual.proximo == None:\n",
    "                return None\n",
    "            else:\n",
    "                atual = atual.proximo\n",
    "        return atual\n",
    "\n",
    "    def excluir_posicao(self, valor):\n",
    "        if self.primeiro == None:\n",
    "            print('A lista está vazia')\n",
    "            return None\n",
    "\n",
    "        atual = self.primeiro\n",
    "        anterior = self.primeiro\n",
    "        while atual.valor != valor:\n",
    "            if atual.proximo == None:\n",
    "                return None\n",
    "            else:\n",
    "                anterior = atual\n",
    "                atual = atual.proximo\n",
    "\n",
    "        if atual == self.primeiro:\n",
    "            self.primeiro = self.primeiro.proximo\n",
    "        else:\n",
    "            anterior.proximo = atual.proximo\n",
    "\n",
    "        return atual"
   ]
  },
  {
   "cell_type": "code",
   "execution_count": 104,
   "id": "5cd1c704-7713-42b3-ba9b-e4abc34bc144",
   "metadata": {},
   "outputs": [
    {
     "name": "stdout",
     "output_type": "stream",
     "text": [
      "1\n"
     ]
    }
   ],
   "source": [
    "no1 = No(1)\n",
    "no1.mostra_no()"
   ]
  },
  {
   "cell_type": "code",
   "execution_count": 105,
   "id": "ce4bbad8-d256-402f-8e01-af8a80629f2c",
   "metadata": {},
   "outputs": [
    {
     "name": "stdout",
     "output_type": "stream",
     "text": [
      "2\n"
     ]
    }
   ],
   "source": [
    "no2 = No(2)\n",
    "no2.mostra_no()"
   ]
  },
  {
   "cell_type": "code",
   "execution_count": 106,
   "id": "bcab3eca-8308-46cf-8c01-495a8a584ea9",
   "metadata": {},
   "outputs": [
    {
     "name": "stdout",
     "output_type": "stream",
     "text": [
      "1\n"
     ]
    }
   ],
   "source": [
    "lista = ListaEncadeada()\n",
    "lista.insere_inicio(1)\n",
    "lista.mostrar()"
   ]
  },
  {
   "cell_type": "code",
   "execution_count": 107,
   "id": "01d94597-cf35-4833-b141-2ebaea17bf55",
   "metadata": {},
   "outputs": [
    {
     "name": "stdout",
     "output_type": "stream",
     "text": [
      "2\n",
      "1\n"
     ]
    }
   ],
   "source": [
    "lista.insere_inicio(2)\n",
    "lista.mostrar()"
   ]
  },
  {
   "cell_type": "markdown",
   "id": "cc4dc735-3cd7-4168-830a-6eaf045affb2",
   "metadata": {},
   "source": [
    "### Excluir do inicio\n"
   ]
  },
  {
   "cell_type": "code",
   "execution_count": 108,
   "id": "e2779f79-96f5-48ce-8391-a2fcfc1317c2",
   "metadata": {},
   "outputs": [
    {
     "name": "stdout",
     "output_type": "stream",
     "text": [
      "5\n",
      "4\n",
      "3\n",
      "2\n",
      "1\n"
     ]
    }
   ],
   "source": [
    "lista = ListaEncadeada()\n",
    "lista.insere_inicio(1)\n",
    "lista.insere_inicio(2)\n",
    "lista.insere_inicio(3)\n",
    "lista.insere_inicio(4)\n",
    "lista.insere_inicio(5)\n",
    "lista.mostrar()\n"
   ]
  },
  {
   "cell_type": "code",
   "execution_count": 109,
   "id": "86f815e8-8be5-4410-8d02-d2b2405863ba",
   "metadata": {},
   "outputs": [
    {
     "name": "stdout",
     "output_type": "stream",
     "text": [
      "3\n",
      "2\n",
      "1\n"
     ]
    }
   ],
   "source": [
    "lista.excluir_inicio()\n",
    "lista.excluir_inicio()\n",
    "lista.mostrar()"
   ]
  },
  {
   "cell_type": "code",
   "execution_count": 110,
   "id": "c28a6ccc-190e-4f44-9971-3a2cf95f9e8b",
   "metadata": {},
   "outputs": [
    {
     "name": "stdout",
     "output_type": "stream",
     "text": [
      "1\n"
     ]
    }
   ],
   "source": [
    "lista.excluir_inicio()\n",
    "lista.excluir_inicio()\n",
    "lista.mostrar()"
   ]
  },
  {
   "cell_type": "code",
   "execution_count": 111,
   "id": "83166de2-5986-4230-a3e3-e2699701d17f",
   "metadata": {},
   "outputs": [
    {
     "data": {
      "text/plain": [
       "<__main__.No at 0x7fbba9f87450>"
      ]
     },
     "execution_count": 111,
     "metadata": {},
     "output_type": "execute_result"
    }
   ],
   "source": [
    "lista.excluir_inicio()"
   ]
  },
  {
   "cell_type": "markdown",
   "id": "b41c498b-46ca-4ed1-ad7b-05e35b1c7852",
   "metadata": {},
   "source": [
    "### Pesquisa"
   ]
  },
  {
   "cell_type": "code",
   "execution_count": 112,
   "id": "056ee471-9f65-4167-8a43-38c8194b1335",
   "metadata": {},
   "outputs": [
    {
     "name": "stdout",
     "output_type": "stream",
     "text": [
      "5\n",
      "4\n",
      "3\n",
      "2\n",
      "1\n"
     ]
    }
   ],
   "source": [
    "lista = ListaEncadeada()\n",
    "lista.insere_inicio(1)\n",
    "lista.insere_inicio(2)\n",
    "lista.insere_inicio(3)\n",
    "lista.insere_inicio(4)\n",
    "lista.insere_inicio(5)\n",
    "lista.mostrar()"
   ]
  },
  {
   "cell_type": "code",
   "execution_count": 113,
   "id": "ca9cb45f-bfd7-44c4-b03a-b65002fcd83f",
   "metadata": {},
   "outputs": [],
   "source": [
    "pesquisa = lista.pesquisa(3)"
   ]
  },
  {
   "cell_type": "code",
   "execution_count": 114,
   "id": "02e5ee9d-0d5f-4d99-a593-2032639e352d",
   "metadata": {},
   "outputs": [
    {
     "name": "stdout",
     "output_type": "stream",
     "text": [
      "encontrado 3\n"
     ]
    }
   ],
   "source": [
    "if pesquisa != None:\n",
    "    print('encontrado', pesquisa.valor)\n",
    "else:\n",
    "    print('não encontrado')"
   ]
  },
  {
   "cell_type": "markdown",
   "id": "25f05f9a-1e7b-46c0-b568-0d4de557565f",
   "metadata": {},
   "source": [
    "### Excluir posição"
   ]
  },
  {
   "cell_type": "code",
   "execution_count": 115,
   "id": "84db0b1a-0040-4164-bc3b-1b4a7e6e79e3",
   "metadata": {},
   "outputs": [
    {
     "name": "stdout",
     "output_type": "stream",
     "text": [
      "5\n",
      "4\n",
      "3\n",
      "2\n",
      "1\n"
     ]
    }
   ],
   "source": [
    "lista = ListaEncadeada()\n",
    "lista.insere_inicio(1)\n",
    "lista.insere_inicio(2)\n",
    "lista.insere_inicio(3)\n",
    "lista.insere_inicio(4)\n",
    "lista.insere_inicio(5)\n",
    "lista.mostrar()"
   ]
  },
  {
   "cell_type": "code",
   "execution_count": 117,
   "id": "c6e11614-7f92-4634-b0bc-4687ebce7fab",
   "metadata": {},
   "outputs": [
    {
     "name": "stdout",
     "output_type": "stream",
     "text": [
      "5\n",
      "4\n",
      "2\n",
      "1\n"
     ]
    }
   ],
   "source": [
    "lista.excluir_posicao(3)\n",
    "lista.mostrar()\n"
   ]
  },
  {
   "cell_type": "code",
   "execution_count": null,
   "id": "ba6ec524-4503-4ed8-aeca-dbc60cbc6f0b",
   "metadata": {},
   "outputs": [],
   "source": []
  }
 ],
 "metadata": {
  "kernelspec": {
   "display_name": "Python 3 (ipykernel)",
   "language": "python",
   "name": "python3"
  },
  "language_info": {
   "codemirror_mode": {
    "name": "ipython",
    "version": 3
   },
   "file_extension": ".py",
   "mimetype": "text/x-python",
   "name": "python",
   "nbconvert_exporter": "python",
   "pygments_lexer": "ipython3",
   "version": "3.11.0"
  }
 },
 "nbformat": 4,
 "nbformat_minor": 5
}
