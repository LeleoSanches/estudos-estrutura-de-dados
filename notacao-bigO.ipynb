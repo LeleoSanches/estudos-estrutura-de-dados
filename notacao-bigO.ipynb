{
 "cells": [
  {
   "cell_type": "markdown",
   "id": "e191f6b3-28d6-4d7e-b483-df530bb84756",
   "metadata": {},
   "source": [
    "## Função 1 - O(n)\n"
   ]
  },
  {
   "cell_type": "code",
   "execution_count": 3,
   "id": "c3f3b5ab-d1a6-4cf5-ae61-06252844b415",
   "metadata": {},
   "outputs": [],
   "source": [
    "def sum1(n):\n",
    "    sum1 = 0\n",
    "    for i in range(n+1):\n",
    "        sum1 += i\n",
    "    return sum1"
   ]
  },
  {
   "cell_type": "code",
   "execution_count": 6,
   "id": "a1a18b34-52c8-4cfd-8374-e033578bb603",
   "metadata": {},
   "outputs": [
    {
     "name": "stdout",
     "output_type": "stream",
     "text": [
      "413 ns ± 4.55 ns per loop (mean ± std. dev. of 7 runs, 1,000,000 loops each)\n"
     ]
    }
   ],
   "source": [
    "%timeit sum1(20)"
   ]
  },
  {
   "cell_type": "markdown",
   "id": "4184fd7e-7852-4643-bfd7-3d4409d6048f",
   "metadata": {},
   "source": [
    "## Função 2"
   ]
  },
  {
   "cell_type": "code",
   "execution_count": 7,
   "id": "da8ab577-7e3c-4391-b693-d359058ce532",
   "metadata": {},
   "outputs": [],
   "source": [
    "def sum2(n):\n",
    "    return (n* (n+1)) / 2"
   ]
  },
  {
   "cell_type": "code",
   "execution_count": 8,
   "id": "a49cc1ee-7093-4547-8532-bf023c71b077",
   "metadata": {},
   "outputs": [
    {
     "name": "stdout",
     "output_type": "stream",
     "text": [
      "59.7 ns ± 5.34 ns per loop (mean ± std. dev. of 7 runs, 10,000,000 loops each)\n"
     ]
    }
   ],
   "source": [
    "%timeit sum2(20)"
   ]
  },
  {
   "cell_type": "markdown",
   "id": "384e749c-56da-426c-915e-9e737f03d00e",
   "metadata": {},
   "source": [
    "## Função 3\n"
   ]
  },
  {
   "cell_type": "code",
   "execution_count": 9,
   "id": "b6bf75cf-24be-4ba0-8412-f16c49d4094f",
   "metadata": {},
   "outputs": [],
   "source": [
    "def list1():\n",
    "    list1 = []\n",
    "    for i in range(1000):\n",
    "        list1 += [i]\n",
    "    return list1"
   ]
  },
  {
   "cell_type": "code",
   "execution_count": 11,
   "id": "ebab8c3c-6279-4e18-a176-744f9a841109",
   "metadata": {},
   "outputs": [
    {
     "name": "stdout",
     "output_type": "stream",
     "text": [
      "62.2 µs ± 1.47 µs per loop (mean ± std. dev. of 7 runs, 10,000 loops each)\n"
     ]
    }
   ],
   "source": [
    "%timeit list1()"
   ]
  },
  {
   "cell_type": "markdown",
   "id": "1fd63f5e-1a66-4e7f-82ab-6093736ade03",
   "metadata": {},
   "source": [
    "## Função 4"
   ]
  },
  {
   "cell_type": "code",
   "execution_count": 13,
   "id": "7c52616d-48b3-4fa3-b61f-43713903b15a",
   "metadata": {},
   "outputs": [],
   "source": [
    "def list2():\n",
    "    return range(1000)"
   ]
  },
  {
   "cell_type": "code",
   "execution_count": 14,
   "id": "749e2fbb-6e96-47df-8830-1ccb6a18bd10",
   "metadata": {},
   "outputs": [
    {
     "name": "stdout",
     "output_type": "stream",
     "text": [
      "108 ns ± 1.91 ns per loop (mean ± std. dev. of 7 runs, 10,000,000 loops each)\n"
     ]
    }
   ],
   "source": [
    "%timeit list2()"
   ]
  },
  {
   "cell_type": "code",
   "execution_count": null,
   "id": "3f3e3d53-b0d4-46e9-bd25-3856b90e9f9c",
   "metadata": {},
   "outputs": [],
   "source": []
  }
 ],
 "metadata": {
  "kernelspec": {
   "display_name": "Python 3 (ipykernel)",
   "language": "python",
   "name": "python3"
  },
  "language_info": {
   "codemirror_mode": {
    "name": "ipython",
    "version": 3
   },
   "file_extension": ".py",
   "mimetype": "text/x-python",
   "name": "python",
   "nbconvert_exporter": "python",
   "pygments_lexer": "ipython3",
   "version": "3.11.0"
  }
 },
 "nbformat": 4,
 "nbformat_minor": 5
}
