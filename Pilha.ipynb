{
 "cells": [
  {
   "cell_type": "markdown",
   "id": "90fccf69-4d07-4260-8cc1-0a34a61444a8",
   "metadata": {},
   "source": [
    "## Pilhas"
   ]
  },
  {
   "cell_type": "code",
   "execution_count": 1,
   "id": "96d44750-4d42-4c44-9c37-a9e7184231e2",
   "metadata": {},
   "outputs": [],
   "source": [
    "import numpy as np"
   ]
  },
  {
   "cell_type": "code",
   "execution_count": 40,
   "id": "70542aa2-8b74-4730-b324-75e8a7700a04",
   "metadata": {},
   "outputs": [],
   "source": [
    "class Pilha:\n",
    "    def __init__(self, capacidade):\n",
    "        self.__capacidade = capacidade\n",
    "        self.__topo = -1\n",
    "        self.__valores = np.empty(self.__capacidade, dtype = int)\n",
    "    \n",
    "    def __pilha_cheia(self):\n",
    "        if self.__topo == self.__capacidade -1:\n",
    "            return True\n",
    "        else:\n",
    "            return False\n",
    "    def __pilha_vazia(self):\n",
    "        if self.__topo == -1:\n",
    "            return True\n",
    "        else:\n",
    "            return False\n",
    "    \n",
    "    def empilhar(self, valor):\n",
    "        if self.__pilha_cheia():\n",
    "            print('A pilha está cheia')\n",
    "        else:\n",
    "            self.__topo += 1\n",
    "            self.__valores[self.__topo] = valor\n",
    "            \n",
    "    def desempilhar(self):\n",
    "        if self.__pilha_vazia():\n",
    "            print('A pilha está vazia')\n",
    "        else:\n",
    "            self.__topo -= 1\n",
    "    \n",
    "    def ver_topo(self):\n",
    "        if self.__topo != -1:\n",
    "            return self.__valores[self.__topo]\n",
    "        else:\n",
    "            return -1\n",
    "    \n",
    "            "
   ]
  },
  {
   "cell_type": "code",
   "execution_count": 41,
   "id": "37b2fdf1-45e5-4fbf-bd2d-a3010ba24857",
   "metadata": {},
   "outputs": [
    {
     "data": {
      "text/plain": [
       "10"
      ]
     },
     "execution_count": 41,
     "metadata": {},
     "output_type": "execute_result"
    }
   ],
   "source": [
    "pilha = Pilha(5)\n",
    "pilha.empilhar(3)\n",
    "pilha.empilhar(5)\n",
    "pilha.empilhar(10)\n",
    "pilha.ver_topo()"
   ]
  },
  {
   "cell_type": "code",
   "execution_count": 42,
   "id": "12f12da1-b318-4027-8099-f08cb2726143",
   "metadata": {},
   "outputs": [
    {
     "data": {
      "text/plain": [
       "5"
      ]
     },
     "execution_count": 42,
     "metadata": {},
     "output_type": "execute_result"
    }
   ],
   "source": [
    "pilha.desempilhar()\n",
    "pilha.ver_topo()"
   ]
  },
  {
   "cell_type": "code",
   "execution_count": 55,
   "id": "46e0cb36-f3fa-44e4-aed6-1c0c54c3e278",
   "metadata": {},
   "outputs": [],
   "source": [
    "def valida_expressao():\n",
    "    expressao = input()\n",
    "    tamanho_pilha = 0\n",
    "    for i in list(expressao):\n",
    "        if i in ['(','[','{',')',']','}']:\n",
    "            tamanho_pilha += 1\n",
    "    pilha = Pilha(tamanho_pilha)\n",
    "    for i in list(expressao):\n",
    "        if i in ['(','[','{',')',']','}']:\n",
    "            if i == '(':\n",
    "                pilha.empilhar(1)\n",
    "            elif i == '[':\n",
    "                pilha.empilhar(2)\n",
    "            elif i == '{':\n",
    "                pilha.empilhar(3)\n",
    "            else:\n",
    "                if i == ')':\n",
    "                    if pilha.ver_topo() == 1:\n",
    "                        pilha.desempilhar()\n",
    "                    else:\n",
    "                        return print('Expressao Errada')\n",
    "                        \n",
    "                if i == ']':\n",
    "                    if pilha.ver_topo() == 2:\n",
    "                        pilha.desempilhar()\n",
    "                    else:\n",
    "                        return print('Expressao Errada')\n",
    "                        \n",
    "                if i == '}':\n",
    "                    if pilha.ver_topo() == 3:\n",
    "                        pilha.desempilhar()\n",
    "                    else:\n",
    "                        return print('Expressao Errada')\n",
    "                        \n",
    "    if pilha.ver_topo() == -1:\n",
    "        print('Expressão Correta')\n",
    "\n",
    "                    \n",
    "\n",
    "            "
   ]
  },
  {
   "cell_type": "code",
   "execution_count": 57,
   "id": "050c33bc-abcc-40a4-a004-f3b568bcfaff",
   "metadata": {},
   "outputs": [
    {
     "name": "stdin",
     "output_type": "stream",
     "text": [
      " {{{{{}}}}}\n"
     ]
    },
    {
     "name": "stdout",
     "output_type": "stream",
     "text": [
      "Expressão Correta\n"
     ]
    }
   ],
   "source": [
    "valida_expressao()\n",
    "\n"
   ]
  },
  {
   "cell_type": "code",
   "execution_count": null,
   "id": "87c7c443-dfa7-413d-b229-285037f9a698",
   "metadata": {},
   "outputs": [],
   "source": []
  }
 ],
 "metadata": {
  "kernelspec": {
   "display_name": "Python 3 (ipykernel)",
   "language": "python",
   "name": "python3"
  },
  "language_info": {
   "codemirror_mode": {
    "name": "ipython",
    "version": 3
   },
   "file_extension": ".py",
   "mimetype": "text/x-python",
   "name": "python",
   "nbconvert_exporter": "python",
   "pygments_lexer": "ipython3",
   "version": "3.11.0"
  }
 },
 "nbformat": 4,
 "nbformat_minor": 5
}
