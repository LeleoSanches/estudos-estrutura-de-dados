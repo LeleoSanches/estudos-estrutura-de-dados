{
 "cells": [
  {
   "cell_type": "code",
   "execution_count": 34,
   "id": "cdd05018-056f-4b59-bbd5-916b8ec5dfe1",
   "metadata": {},
   "outputs": [],
   "source": [
    "class No:\n",
    "    def __init__(self,valor):\n",
    "        self.valor = valor\n",
    "        self.proximo = None\n",
    "        \n",
    "    def mostra_no(self):\n",
    "        print(self.valor)\n",
    "        return\n",
    "    \n",
    "class ListaEncadeadaExtremidadeDupla:\n",
    "    def __init__(self):\n",
    "        self.primeiro = None\n",
    "        self.ultimo = None\n",
    "    \n",
    "    def __lista_vazia(self):\n",
    "        return self.primeiro == None\n",
    "    \n",
    "    def insere_inicio(self,valor):\n",
    "        novo = No(valor)\n",
    "        if self.__lista_vazia():\n",
    "            self.ultimo = novo\n",
    "        novo.proximo = self.primeiro\n",
    "        self.primeiro = novo\n",
    "        \n",
    "    def insere_final(self, valor):\n",
    "        novo = No(valor)\n",
    "        if self.__lista_vazia():\n",
    "            self.primeiro = novo\n",
    "        else:\n",
    "            self.ultimo.proximo = novo\n",
    "        self.ultimo = novo\n",
    "    \n",
    "    def excluir_inicio(self):\n",
    "        if self.__lista_vazia():\n",
    "            print('A lista está vazia')\n",
    "            return\n",
    "        temp = self.primeiro\n",
    "        if self.primeiro.proximo == None:\n",
    "            self.ultimo = None\n",
    "        self.primeiro = self.primeiro.proximo\n",
    "        return temp\n",
    "    \n",
    "    def mostrar(self):\n",
    "        if self.__lista_vazia():\n",
    "            print('A lista está vazia')\n",
    "            return\n",
    "        atual = self.primeiro\n",
    "        while atual != None:\n",
    "            atual.mostra_no()\n",
    "            atual = atual.proximo"
   ]
  },
  {
   "cell_type": "code",
   "execution_count": 35,
   "id": "0ace83b7-d9bc-4eed-a091-469b77fb5367",
   "metadata": {},
   "outputs": [
    {
     "data": {
      "text/plain": [
       "(<__main__.No at 0x7fb41e9e2b90>, <__main__.No at 0x7fb41e9e2b90>)"
      ]
     },
     "execution_count": 35,
     "metadata": {},
     "output_type": "execute_result"
    }
   ],
   "source": [
    "lista = ListaEncadeadaExtremidadeDupla()\n",
    "lista.insere_inicio(1)\n",
    "lista.primeiro, lista.ultimo"
   ]
  },
  {
   "cell_type": "code",
   "execution_count": 36,
   "id": "27a35fea-89f8-432b-963f-409fef3e71aa",
   "metadata": {},
   "outputs": [
    {
     "name": "stdout",
     "output_type": "stream",
     "text": [
      "10\n",
      "16\n",
      "5\n",
      "4\n",
      "1\n"
     ]
    }
   ],
   "source": [
    "lista.insere_inicio(4)\n",
    "lista.insere_inicio(5)\n",
    "lista.insere_inicio(16)\n",
    "lista.insere_inicio(10)\n",
    "lista.mostrar()"
   ]
  },
  {
   "cell_type": "code",
   "execution_count": 37,
   "id": "56daa495-aec2-44cf-9079-65895eed7a45",
   "metadata": {},
   "outputs": [
    {
     "data": {
      "text/plain": [
       "(<__main__.No at 0x7fb41e858550>, <__main__.No at 0x7fb41e9e2b90>)"
      ]
     },
     "execution_count": 37,
     "metadata": {},
     "output_type": "execute_result"
    }
   ],
   "source": [
    "lista.primeiro, lista.ultimo"
   ]
  },
  {
   "cell_type": "markdown",
   "id": "cca995e9-8b87-45cf-b242-e53827ebd655",
   "metadata": {},
   "source": [
    "### Insere final"
   ]
  },
  {
   "cell_type": "code",
   "execution_count": 38,
   "id": "cb4f04b9-0af7-4209-9865-ce8aa6147e79",
   "metadata": {},
   "outputs": [
    {
     "name": "stdout",
     "output_type": "stream",
     "text": [
      "10\n",
      "16\n",
      "5\n",
      "4\n",
      "1\n",
      "1\n",
      "2\n",
      "3\n"
     ]
    }
   ],
   "source": [
    "lsta = ListaEncadeadaExtremidadeDupla()\n",
    "lista.insere_final(1)\n",
    "lista.insere_final(2)\n",
    "lista.insere_final(3)\n",
    "lista.mostrar()"
   ]
  },
  {
   "cell_type": "markdown",
   "id": "806e607b-c3b0-43fa-8e0e-0200bfbf7c91",
   "metadata": {},
   "source": [
    "### Excluir inicio"
   ]
  },
  {
   "cell_type": "code",
   "execution_count": 40,
   "id": "c9749d53-4ea0-40cd-9d9c-15f3d62588dc",
   "metadata": {},
   "outputs": [
    {
     "name": "stdout",
     "output_type": "stream",
     "text": [
      "1\n",
      "3\n"
     ]
    }
   ],
   "source": [
    "lista = ListaEncadeadaExtremidadeDupla()\n",
    "lista.insere_inicio(1)\n",
    "lista.insere_final(3)\n",
    "lista.mostrar()"
   ]
  },
  {
   "cell_type": "code",
   "execution_count": 41,
   "id": "70c3224b-8aa2-4233-9c7a-22cb2197f9e3",
   "metadata": {},
   "outputs": [
    {
     "data": {
      "text/plain": [
       "<__main__.No at 0x7fb41e85fa10>"
      ]
     },
     "execution_count": 41,
     "metadata": {},
     "output_type": "execute_result"
    }
   ],
   "source": [
    "lista.excluir_inicio()"
   ]
  },
  {
   "cell_type": "code",
   "execution_count": 42,
   "id": "d17280f4-47c6-493f-81fb-dd1829228b24",
   "metadata": {},
   "outputs": [
    {
     "name": "stdout",
     "output_type": "stream",
     "text": [
      "3\n"
     ]
    }
   ],
   "source": [
    "lista.mostrar()"
   ]
  },
  {
   "cell_type": "code",
   "execution_count": null,
   "id": "87e76161-d64e-422f-816a-8906d11ef022",
   "metadata": {},
   "outputs": [],
   "source": []
  }
 ],
 "metadata": {
  "kernelspec": {
   "display_name": "Python 3 (ipykernel)",
   "language": "python",
   "name": "python3"
  },
  "language_info": {
   "codemirror_mode": {
    "name": "ipython",
    "version": 3
   },
   "file_extension": ".py",
   "mimetype": "text/x-python",
   "name": "python",
   "nbconvert_exporter": "python",
   "pygments_lexer": "ipython3",
   "version": "3.11.0"
  }
 },
 "nbformat": 4,
 "nbformat_minor": 5
}
