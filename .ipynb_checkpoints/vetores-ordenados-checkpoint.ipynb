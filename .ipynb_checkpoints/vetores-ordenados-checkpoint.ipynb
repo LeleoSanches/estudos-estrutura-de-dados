{
 "cells": [
  {
   "cell_type": "markdown",
   "id": "92ddcb9d-1585-4e53-ac35-2a79efb28267",
   "metadata": {},
   "source": [
    "## Vetores Ordenados"
   ]
  },
  {
   "cell_type": "code",
   "execution_count": 25,
   "id": "fc438e83-b1de-4c5c-b23d-96aea553b3d6",
   "metadata": {},
   "outputs": [],
   "source": [
    "import numpy as np"
   ]
  },
  {
   "cell_type": "code",
   "execution_count": 26,
   "id": "e8e12094-6201-4ba7-9f49-37adf247d4b2",
   "metadata": {},
   "outputs": [],
   "source": [
    "class VetorOrdenado:\n",
    "    def __init__(self,capacidade):\n",
    "        self.capacidade = capacidade\n",
    "        self.ultima_posicao = -1\n",
    "        self.valores = np.empty(self.capacidade, dtype=int)\n",
    "        \n",
    "    def imprime(self):\n",
    "        if self.ultima_posicao == -1:\n",
    "            print('Vetor Vazio')\n",
    "        else:\n",
    "            for i in range(self.ultima_posicao + 1):\n",
    "                print(i, '-', self.valores[i])\n",
    "    \n",
    "    def insere(self, valor):\n",
    "        self.ultima_posicao += 1\n",
    "        if self.ultima_posicao == self.capacidade -1:\n",
    "            print('Capacidade máxima atingida')\n",
    "            return\n",
    "\n",
    "        posicao = 0\n",
    "        for i in range(self.ultima_posicao + 1):\n",
    "            posicao = i\n",
    "            if self.valores[i] > valor:\n",
    "                break\n",
    "        x = self.ultima_posicao\n",
    "        while x >= posicao:\n",
    "            self.valores[x + 1] = self.valores[x]\n",
    "            x -= 1\n",
    "        self.valores[posicao] = valor\n",
    "\n",
    "            "
   ]
  },
  {
   "cell_type": "code",
   "execution_count": 27,
   "id": "2138ffb4-9b70-42b3-a516-dd8620a49794",
   "metadata": {},
   "outputs": [],
   "source": [
    "vetor = VetorOrdenado(5)"
   ]
  },
  {
   "cell_type": "code",
   "execution_count": 28,
   "id": "c09f12de-e470-450c-b63e-bdc75589f3e4",
   "metadata": {},
   "outputs": [
    {
     "ename": "IndexError",
     "evalue": "index 5 is out of bounds for axis 0 with size 5",
     "output_type": "error",
     "traceback": [
      "\u001b[0;31m---------------------------------------------------------------------------\u001b[0m",
      "\u001b[0;31mIndexError\u001b[0m                                Traceback (most recent call last)",
      "Cell \u001b[0;32mIn [28], line 5\u001b[0m\n\u001b[1;32m      3\u001b[0m vetor\u001b[38;5;241m.\u001b[39minsere(\u001b[38;5;241m3\u001b[39m)\n\u001b[1;32m      4\u001b[0m vetor\u001b[38;5;241m.\u001b[39minsere(\u001b[38;5;241m1\u001b[39m)\n\u001b[0;32m----> 5\u001b[0m \u001b[43mvetor\u001b[49m\u001b[38;5;241;43m.\u001b[39;49m\u001b[43minsere\u001b[49m\u001b[43m(\u001b[49m\u001b[38;5;241;43m6\u001b[39;49m\u001b[43m)\u001b[49m\n\u001b[1;32m      6\u001b[0m vetor\u001b[38;5;241m.\u001b[39minsere(\u001b[38;5;241m5\u001b[39m)\n",
      "Cell \u001b[0;32mIn [26], line 27\u001b[0m, in \u001b[0;36mVetorOrdenado.insere\u001b[0;34m(self, valor)\u001b[0m\n\u001b[1;32m     25\u001b[0m x \u001b[38;5;241m=\u001b[39m \u001b[38;5;28mself\u001b[39m\u001b[38;5;241m.\u001b[39multima_posicao\n\u001b[1;32m     26\u001b[0m \u001b[38;5;28;01mwhile\u001b[39;00m x \u001b[38;5;241m>\u001b[39m\u001b[38;5;241m=\u001b[39m posicao:\n\u001b[0;32m---> 27\u001b[0m     \u001b[38;5;28;43mself\u001b[39;49m\u001b[38;5;241;43m.\u001b[39;49m\u001b[43mvalores\u001b[49m\u001b[43m[\u001b[49m\u001b[43mx\u001b[49m\u001b[43m \u001b[49m\u001b[38;5;241;43m+\u001b[39;49m\u001b[43m \u001b[49m\u001b[38;5;241;43m1\u001b[39;49m\u001b[43m]\u001b[49m \u001b[38;5;241m=\u001b[39m \u001b[38;5;28mself\u001b[39m\u001b[38;5;241m.\u001b[39mvalores[x]\n\u001b[1;32m     28\u001b[0m     x \u001b[38;5;241m-\u001b[39m\u001b[38;5;241m=\u001b[39m \u001b[38;5;241m1\u001b[39m\n\u001b[1;32m     29\u001b[0m \u001b[38;5;28mself\u001b[39m\u001b[38;5;241m.\u001b[39mvalores[posicao] \u001b[38;5;241m=\u001b[39m valor\n",
      "\u001b[0;31mIndexError\u001b[0m: index 5 is out of bounds for axis 0 with size 5"
     ]
    }
   ],
   "source": [
    "vetor.insere(2)\n",
    "vetor.insere(4)\n",
    "vetor.insere(3)\n",
    "vetor.insere(1)\n",
    "vetor.insere(6)\n",
    "vetor.insere(5)"
   ]
  },
  {
   "cell_type": "code",
   "execution_count": 24,
   "id": "62e2c4ba-5328-484f-bd91-b1d7ce716389",
   "metadata": {},
   "outputs": [
    {
     "name": "stdout",
     "output_type": "stream",
     "text": [
      "0 - 2\n",
      "1 - 2\n",
      "2 - 3\n",
      "3 - 4\n",
      "4 - 3\n"
     ]
    },
    {
     "ename": "IndexError",
     "evalue": "index 5 is out of bounds for axis 0 with size 5",
     "output_type": "error",
     "traceback": [
      "\u001b[0;31m---------------------------------------------------------------------------\u001b[0m",
      "\u001b[0;31mIndexError\u001b[0m                                Traceback (most recent call last)",
      "Cell \u001b[0;32mIn [24], line 1\u001b[0m\n\u001b[0;32m----> 1\u001b[0m \u001b[43mvetor\u001b[49m\u001b[38;5;241;43m.\u001b[39;49m\u001b[43mimprime\u001b[49m\u001b[43m(\u001b[49m\u001b[43m)\u001b[49m\n",
      "Cell \u001b[0;32mIn [19], line 12\u001b[0m, in \u001b[0;36mVetorOrdenado.imprime\u001b[0;34m(self)\u001b[0m\n\u001b[1;32m     10\u001b[0m \u001b[38;5;28;01melse\u001b[39;00m:\n\u001b[1;32m     11\u001b[0m     \u001b[38;5;28;01mfor\u001b[39;00m i \u001b[38;5;129;01min\u001b[39;00m \u001b[38;5;28mrange\u001b[39m(\u001b[38;5;28mself\u001b[39m\u001b[38;5;241m.\u001b[39multima_posicao \u001b[38;5;241m+\u001b[39m \u001b[38;5;241m1\u001b[39m):\n\u001b[0;32m---> 12\u001b[0m         \u001b[38;5;28mprint\u001b[39m(i, \u001b[38;5;124m'\u001b[39m\u001b[38;5;124m-\u001b[39m\u001b[38;5;124m'\u001b[39m, \u001b[38;5;28;43mself\u001b[39;49m\u001b[38;5;241;43m.\u001b[39;49m\u001b[43mvalores\u001b[49m\u001b[43m[\u001b[49m\u001b[43mi\u001b[49m\u001b[43m]\u001b[49m)\n",
      "\u001b[0;31mIndexError\u001b[0m: index 5 is out of bounds for axis 0 with size 5"
     ]
    }
   ],
   "source": [
    "vetor.imprime()"
   ]
  },
  {
   "cell_type": "code",
   "execution_count": null,
   "id": "11963292-4ef9-4d90-af82-8df0c42db7ba",
   "metadata": {},
   "outputs": [],
   "source": []
  }
 ],
 "metadata": {
  "kernelspec": {
   "display_name": "Python 3 (ipykernel)",
   "language": "python",
   "name": "python3"
  },
  "language_info": {
   "codemirror_mode": {
    "name": "ipython",
    "version": 3
   },
   "file_extension": ".py",
   "mimetype": "text/x-python",
   "name": "python",
   "nbconvert_exporter": "python",
   "pygments_lexer": "ipython3",
   "version": "3.11.0"
  }
 },
 "nbformat": 4,
 "nbformat_minor": 5
}
