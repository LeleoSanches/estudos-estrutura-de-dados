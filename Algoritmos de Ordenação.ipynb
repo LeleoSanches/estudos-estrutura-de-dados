{
 "cells": [
  {
   "cell_type": "code",
   "execution_count": 1,
   "id": "e9f9f0c3-9523-439c-aa1e-c7f99eba5137",
   "metadata": {},
   "outputs": [],
   "source": [
    "import numpy as np\n",
    "        "
   ]
  },
  {
   "cell_type": "markdown",
   "id": "0871b2b5-632b-4acc-9f84-252fcf695953",
   "metadata": {},
   "source": [
    "### Bubble Sort"
   ]
  },
  {
   "cell_type": "code",
   "execution_count": 2,
   "id": "b23589a1-f7e8-42ee-9908-54d1bfaf811a",
   "metadata": {},
   "outputs": [],
   "source": [
    "def BubbleSort(vetor):\n",
    "    n = len(vetor)\n",
    "    \n",
    "    for i in range(n):\n",
    "        for j in range(0, n - i - 1):\n",
    "            if vetor[j] > vetor[j +1]:\n",
    "                temp = vetor[j]\n",
    "                vetor[j] = vetor[j+1]\n",
    "                vetor[j+1] = temp\n",
    "    return vetor"
   ]
  },
  {
   "cell_type": "code",
   "execution_count": 4,
   "id": "a7f40c41-0f35-4244-a9ad-3485c3177a27",
   "metadata": {},
   "outputs": [
    {
     "data": {
      "text/plain": [
       "array([ 2, 12, 32, 35, 44, 45, 55])"
      ]
     },
     "execution_count": 4,
     "metadata": {},
     "output_type": "execute_result"
    }
   ],
   "source": [
    "BubbleSort(np.array([55,44,12,35,2,45,32]))"
   ]
  },
  {
   "cell_type": "markdown",
   "id": "e1f4e7e3-b879-480b-9a28-004ef1490ff3",
   "metadata": {},
   "source": [
    "### Selection Sort"
   ]
  },
  {
   "cell_type": "code",
   "execution_count": 5,
   "id": "5eed9762-c2cf-4821-aed8-917fd14f7730",
   "metadata": {},
   "outputs": [],
   "source": [
    "def SelectionSort(vetor):\n",
    "    n = len(vetor)\n",
    "    for i in range(n):\n",
    "        id_minimo = i\n",
    "        for j in range(i+1,n):\n",
    "            if vetor[id_minimo] > vetor[j]:\n",
    "                id_minimo = j\n",
    "        temp = vetor[i]\n",
    "        vetor[i] = vetor[id_minimo]\n",
    "        vetor[id_minimo] = temp\n",
    "    return vetor"
   ]
  },
  {
   "cell_type": "code",
   "execution_count": 6,
   "id": "813fe4b5-6181-4017-b23c-d5a06c6d70b3",
   "metadata": {},
   "outputs": [
    {
     "data": {
      "text/plain": [
       "array([ 2, 12, 32, 35, 44, 45, 55])"
      ]
     },
     "execution_count": 6,
     "metadata": {},
     "output_type": "execute_result"
    }
   ],
   "source": [
    "SelectionSort(np.array([55,44,12,35,2,45,32]))"
   ]
  },
  {
   "cell_type": "code",
   "execution_count": null,
   "id": "77607995-efbe-4121-a7d9-dc3c870bb321",
   "metadata": {},
   "outputs": [],
   "source": []
  }
 ],
 "metadata": {
  "kernelspec": {
   "display_name": "Python 3 (ipykernel)",
   "language": "python",
   "name": "python3"
  },
  "language_info": {
   "codemirror_mode": {
    "name": "ipython",
    "version": 3
   },
   "file_extension": ".py",
   "mimetype": "text/x-python",
   "name": "python",
   "nbconvert_exporter": "python",
   "pygments_lexer": "ipython3",
   "version": "3.11.0"
  }
 },
 "nbformat": 4,
 "nbformat_minor": 5
}
