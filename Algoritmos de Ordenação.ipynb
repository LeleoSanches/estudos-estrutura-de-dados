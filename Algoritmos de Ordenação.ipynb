{
 "cells": [
  {
   "cell_type": "code",
   "execution_count": 3,
   "id": "e9f9f0c3-9523-439c-aa1e-c7f99eba5137",
   "metadata": {},
   "outputs": [],
   "source": [
    "import numpy as np\n",
    "        "
   ]
  },
  {
   "cell_type": "markdown",
   "id": "0871b2b5-632b-4acc-9f84-252fcf695953",
   "metadata": {},
   "source": [
    "### Bubble Sort"
   ]
  },
  {
   "cell_type": "code",
   "execution_count": 2,
   "id": "b23589a1-f7e8-42ee-9908-54d1bfaf811a",
   "metadata": {},
   "outputs": [],
   "source": [
    "def BubbleSort(vetor):\n",
    "    n = len(vetor)\n",
    "    \n",
    "    for i in range(n):\n",
    "        for j in range(0, n - i - 1):\n",
    "            if vetor[j] > vetor[j +1]:\n",
    "                temp = vetor[j]\n",
    "                vetor[j] = vetor[j+1]\n",
    "                vetor[j+1] = temp\n",
    "    return vetor"
   ]
  },
  {
   "cell_type": "code",
   "execution_count": 4,
   "id": "a7f40c41-0f35-4244-a9ad-3485c3177a27",
   "metadata": {},
   "outputs": [
    {
     "data": {
      "text/plain": [
       "array([ 2, 12, 32, 35, 44, 45, 55])"
      ]
     },
     "execution_count": 4,
     "metadata": {},
     "output_type": "execute_result"
    }
   ],
   "source": [
    "BubbleSort(np.array([55,44,12,35,2,45,32]))"
   ]
  },
  {
   "cell_type": "markdown",
   "id": "e1f4e7e3-b879-480b-9a28-004ef1490ff3",
   "metadata": {},
   "source": [
    "### Selection Sort"
   ]
  },
  {
   "cell_type": "code",
   "execution_count": 5,
   "id": "5eed9762-c2cf-4821-aed8-917fd14f7730",
   "metadata": {},
   "outputs": [],
   "source": [
    "def SelectionSort(vetor):\n",
    "    n = len(vetor)\n",
    "    for i in range(n):\n",
    "        id_minimo = i\n",
    "        for j in range(i+1,n):\n",
    "            if vetor[id_minimo] > vetor[j]:\n",
    "                id_minimo = j\n",
    "        temp = vetor[i]\n",
    "        vetor[i] = vetor[id_minimo]\n",
    "        vetor[id_minimo] = temp\n",
    "    return vetor"
   ]
  },
  {
   "cell_type": "code",
   "execution_count": 6,
   "id": "813fe4b5-6181-4017-b23c-d5a06c6d70b3",
   "metadata": {},
   "outputs": [
    {
     "data": {
      "text/plain": [
       "array([ 2, 12, 32, 35, 44, 45, 55])"
      ]
     },
     "execution_count": 6,
     "metadata": {},
     "output_type": "execute_result"
    }
   ],
   "source": [
    "SelectionSort(np.array([55,44,12,35,2,45,32]))"
   ]
  },
  {
   "cell_type": "markdown",
   "id": "cf55340a-3259-4dc7-9df7-1604def6fcbe",
   "metadata": {},
   "source": [
    "### Insertion Sort"
   ]
  },
  {
   "cell_type": "code",
   "execution_count": 1,
   "id": "d85cda9b-144d-4ded-ae60-4302aee8bd22",
   "metadata": {},
   "outputs": [],
   "source": [
    "def InsertionSort(vetor):\n",
    "    n = len(vetor)\n",
    "    for i in range(1,n):\n",
    "        marcado = vetor[i]\n",
    "        j = i - 1\n",
    "        while j >= 0 and marcado < vetor[j]:\n",
    "            vetor[j+1] = vetor[j]\n",
    "            j -= 1\n",
    "        vetor[j+1] = marcado\n",
    "    return vetor"
   ]
  },
  {
   "cell_type": "code",
   "execution_count": 3,
   "id": "2fc1b111-2969-4d5d-b05c-8db64918bf79",
   "metadata": {},
   "outputs": [
    {
     "data": {
      "text/plain": [
       "array([ 2, 12, 32, 35, 44, 45, 55])"
      ]
     },
     "execution_count": 3,
     "metadata": {},
     "output_type": "execute_result"
    }
   ],
   "source": [
    "InsertionSort(np.array([55,44,12,35,2,45,32]))"
   ]
  },
  {
   "cell_type": "markdown",
   "id": "16a3e200-0e96-4c44-8f6a-9ea1b11b6021",
   "metadata": {},
   "source": [
    "### Shell Sort"
   ]
  },
  {
   "cell_type": "code",
   "execution_count": 4,
   "id": "850b6ab0-dbba-4d97-8afc-987faa0d73d1",
   "metadata": {},
   "outputs": [],
   "source": [
    "def ShellSort(vetor):\n",
    "    intervalo = len(vetor) // 2\n",
    "    \n",
    "    while intervalo > 0:\n",
    "        for i in range(intervalo, len(vetor)):\n",
    "            temp = vetor[i]\n",
    "            j = i\n",
    "            while j >= intervalo and vetor[j - intervalo] > temp:\n",
    "                vetor[j] = vetor[j - intervalo]\n",
    "                j -= intervalo\n",
    "            vetor[j] = temp\n",
    "        intervalo //= 2\n",
    "    return vetor"
   ]
  },
  {
   "cell_type": "code",
   "execution_count": 6,
   "id": "a8e53a07-6dcc-4020-8c8e-9d2902be9d07",
   "metadata": {},
   "outputs": [
    {
     "data": {
      "text/plain": [
       "array([ 2, 12, 32, 35, 44, 45, 55])"
      ]
     },
     "execution_count": 6,
     "metadata": {},
     "output_type": "execute_result"
    }
   ],
   "source": [
    "ShellSort(np.array([55,44,12,35,2,45,32]))"
   ]
  },
  {
   "cell_type": "markdown",
   "id": "3cde4ce7-14d3-4713-a647-6e8b491d3654",
   "metadata": {},
   "source": [
    "### Merge Sort"
   ]
  },
  {
   "cell_type": "code",
   "execution_count": 7,
   "id": "88c8f77c-02fd-4a96-a72f-cef53b74f9e0",
   "metadata": {},
   "outputs": [],
   "source": [
    "def MergeSort(vetor):\n",
    "    if len(vetor) > 1:\n",
    "        divisao = len(vetor) // 2\n",
    "        esquerda = vetor[:divisao].copy()\n",
    "        direita = vetor[divisao:].copy()\n",
    "        \n",
    "        MergeSort(esquerda)\n",
    "        MergeSort(direita)\n",
    "        i = j = k = 0\n",
    "        \n",
    "        while i < len(esquerda) and j < len(direita):\n",
    "            if esquerda[i] < direita[j]:\n",
    "                vetor[k] = esquerda[i]\n",
    "                i += 1\n",
    "            else:\n",
    "                vetor[k] = direita[j]\n",
    "                j += 1\n",
    "            k += 1\n",
    "        while i < len(esquerda):\n",
    "            vetor[k] = esquerda[i]\n",
    "            i += 1\n",
    "            k += 1\n",
    "        while j < len(direita):\n",
    "            vetor[k] = direita[j]\n",
    "            j += 1\n",
    "            k += 1\n",
    "    return vetor"
   ]
  },
  {
   "cell_type": "code",
   "execution_count": 8,
   "id": "7f5c5cda-26be-4e49-bdb2-a032077c83d1",
   "metadata": {},
   "outputs": [
    {
     "data": {
      "text/plain": [
       "array([ 2, 12, 32, 35, 44, 45, 55])"
      ]
     },
     "execution_count": 8,
     "metadata": {},
     "output_type": "execute_result"
    }
   ],
   "source": [
    "MergeSort(np.array([55,44,12,35,2,45,32]))"
   ]
  },
  {
   "cell_type": "markdown",
   "id": "4df6c29e-d4f2-4b53-a175-5b6fb3b658d6",
   "metadata": {},
   "source": [
    "### Quick Sort"
   ]
  },
  {
   "cell_type": "code",
   "execution_count": 9,
   "id": "a4ced165-4f19-4fd7-a634-e690d09d3189",
   "metadata": {},
   "outputs": [],
   "source": [
    "def particao(vetor,inicio,final):\n",
    "    pivo = vetor[final]\n",
    "    i = inicio - 1\n",
    "    for j in range(inicio,final):\n",
    "        if vetor[j] <= pivo:\n",
    "            i += 1\n",
    "            vetor[i], vetor[j] = vetor[j], vetor[i]\n",
    "    vetor[i+1], vetor[final] = vetor[final], vetor[i+1]\n",
    "    return i + 1\n",
    "\n",
    "def QuickSort(vetor, inicio, final):\n",
    "    if inicio < final:\n",
    "        posicao = particao(vetor,inicio,posicao-1)\n",
    "        QuickSort(vetor, posicao+1, final)\n",
    "    return vetor"
   ]
  },
  {
   "cell_type": "code",
   "execution_count": null,
   "id": "09549e18-85ee-4a52-be69-38c0d2a8b4dc",
   "metadata": {},
   "outputs": [],
   "source": [
    "vetor = np.array([55,44,12,35,2,45,32])\n",
    "QuickSort(vetor, 0, len(vetor) - 1)"
   ]
  }
 ],
 "metadata": {
  "kernelspec": {
   "display_name": "Python 3 (ipykernel)",
   "language": "python",
   "name": "python3"
  },
  "language_info": {
   "codemirror_mode": {
    "name": "ipython",
    "version": 3
   },
   "file_extension": ".py",
   "mimetype": "text/x-python",
   "name": "python",
   "nbconvert_exporter": "python",
   "pygments_lexer": "ipython3",
   "version": "3.11.0"
  }
 },
 "nbformat": 4,
 "nbformat_minor": 5
}
