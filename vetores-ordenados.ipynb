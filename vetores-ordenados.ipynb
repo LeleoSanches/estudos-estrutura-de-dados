{
 "cells": [
  {
   "cell_type": "markdown",
   "id": "92ddcb9d-1585-4e53-ac35-2a79efb28267",
   "metadata": {},
   "source": [
    "## Vetores Ordenados"
   ]
  },
  {
   "cell_type": "code",
   "execution_count": 3,
   "id": "fc438e83-b1de-4c5c-b23d-96aea553b3d6",
   "metadata": {},
   "outputs": [],
   "source": [
    "import numpy as np"
   ]
  },
  {
   "cell_type": "code",
   "execution_count": 4,
   "id": "e8e12094-6201-4ba7-9f49-37adf247d4b2",
   "metadata": {},
   "outputs": [],
   "source": [
    "class VetorOrdenado:\n",
    "    def __init__(self,capacidade):\n",
    "        self.capacidade = capacidade\n",
    "        self.ultima_posicao = -1\n",
    "        self.valores = np.empty(self.capacidade, dtype=int)\n",
    "        \n",
    "    def imprime(self):\n",
    "        if self.ultima_posicao == -1:\n",
    "            print('Vetor Vazio')\n",
    "        else:\n",
    "            for i in range(self.ultima_posicao + 1):\n",
    "                print(i, '-', self.valores[i])\n",
    "    \n",
    "    def insere(self, valor):\n",
    "\n",
    "        if self.ultima_posicao == self.capacidade -1:\n",
    "            print('Capacidade máxima atingida')\n",
    "            return\n",
    "\n",
    "        posicao = 0\n",
    "        for i in range(self.ultima_posicao + 1):\n",
    "            posicao = i\n",
    "            if self.valores[i] > valor:\n",
    "                break\n",
    "            if i == self.ultima_posicao:\n",
    "                posicao = i + 1\n",
    "        x = self.ultima_posicao\n",
    "        while x >= posicao:\n",
    "            self.valores[x + 1] = self.valores[x]\n",
    "            x -= 1\n",
    "        self.valores[posicao] = valor\n",
    "        self.ultima_posicao += 1\n",
    "    \n",
    "    def pesquisar(self, valor):\n",
    "        for i in range(self.ultima_posicao + 1):\n",
    "            if valor < self.valores[i]:\n",
    "                return -1\n",
    "            elif valor == self.valores[i]:\n",
    "                return i\n",
    "        return print('Valor não encontrado')\n",
    "            \n",
    "    def excluir(self, valor):\n",
    "        posicao = self.pesquisar(valor)\n",
    "        if posicao == -1:\n",
    "            return -1\n",
    "        else:\n",
    "            for i in range(posicao, self.ultima_posicao):\n",
    "                self.valores[i] = self.valores[i+1]\n",
    "            self.ultima_posicao -= 1\n",
    "            \n",
    "    def pesquisa_binaria(self, valor):\n",
    "        low = 0\n",
    "        high = self.ultima_posicao\n",
    "        while True:\n",
    "            posicao = int((low + high) / 2)\n",
    "            if self.valores[posicao] == valor:\n",
    "                return posicao\n",
    "            elif low > high:\n",
    "                return -1\n",
    "            else:\n",
    "                if self.valores[posicao] < valor:\n",
    "                    low = posicao + 1\n",
    "                else:\n",
    "                    high = posicao -1\n",
    "        \n",
    "        "
   ]
  },
  {
   "cell_type": "code",
   "execution_count": 13,
   "id": "2138ffb4-9b70-42b3-a516-dd8620a49794",
   "metadata": {},
   "outputs": [],
   "source": [
    "vetor = VetorOrdenado(10)"
   ]
  },
  {
   "cell_type": "code",
   "execution_count": 14,
   "id": "c09f12de-e470-450c-b63e-bdc75589f3e4",
   "metadata": {},
   "outputs": [],
   "source": [
    "vetor.insere(2)\n",
    "vetor.insere(4)\n",
    "vetor.insere(3)\n",
    "vetor.insere(1)\n",
    "vetor.insere(6)\n",
    "vetor.insere(5)\n",
    "vetor.insere(8)\n",
    "vetor.insere(7)\n",
    "vetor.insere(10)\n",
    "vetor.insere(9)"
   ]
  },
  {
   "cell_type": "code",
   "execution_count": 15,
   "id": "62e2c4ba-5328-484f-bd91-b1d7ce716389",
   "metadata": {},
   "outputs": [
    {
     "name": "stdout",
     "output_type": "stream",
     "text": [
      "0 - 1\n",
      "1 - 2\n",
      "2 - 3\n",
      "3 - 4\n",
      "4 - 5\n",
      "5 - 6\n",
      "6 - 7\n",
      "7 - 8\n",
      "8 - 9\n",
      "9 - 10\n"
     ]
    }
   ],
   "source": [
    "vetor.imprime()"
   ]
  },
  {
   "cell_type": "code",
   "execution_count": 16,
   "id": "11963292-4ef9-4d90-af82-8df0c42db7ba",
   "metadata": {},
   "outputs": [
    {
     "data": {
      "text/plain": [
       "7"
      ]
     },
     "execution_count": 16,
     "metadata": {},
     "output_type": "execute_result"
    }
   ],
   "source": [
    "vetor.pesquisar(8)"
   ]
  },
  {
   "cell_type": "code",
   "execution_count": 17,
   "id": "4efb2fb1-7a99-44d1-8762-d36ba751bb11",
   "metadata": {},
   "outputs": [
    {
     "name": "stdout",
     "output_type": "stream",
     "text": [
      "0 - 2\n",
      "1 - 3\n",
      "2 - 4\n",
      "3 - 5\n",
      "4 - 6\n",
      "5 - 7\n",
      "6 - 8\n",
      "7 - 9\n",
      "8 - 10\n"
     ]
    }
   ],
   "source": [
    "vetor.excluir(1)\n",
    "vetor.imprime()"
   ]
  },
  {
   "cell_type": "code",
   "execution_count": 19,
   "id": "65f449c4-a128-4132-a718-6e484adb208b",
   "metadata": {},
   "outputs": [
    {
     "data": {
      "text/plain": [
       "4"
      ]
     },
     "execution_count": 19,
     "metadata": {},
     "output_type": "execute_result"
    }
   ],
   "source": [
    "vetor.pesquisa_binaria(6)"
   ]
  },
  {
   "cell_type": "code",
   "execution_count": 21,
   "id": "0f5aaca4-9dc7-4ca7-813a-6f202098551b",
   "metadata": {},
   "outputs": [
    {
     "name": "stdout",
     "output_type": "stream",
     "text": [
      "1.64 µs ± 51.5 ns per loop (mean ± std. dev. of 7 runs, 1,000,000 loops each)\n"
     ]
    }
   ],
   "source": [
    "%timeit vetor.pesquisar(8)"
   ]
  },
  {
   "cell_type": "code",
   "execution_count": 22,
   "id": "83a545a3-90e4-4855-96aa-0a54a4871340",
   "metadata": {},
   "outputs": [
    {
     "name": "stdout",
     "output_type": "stream",
     "text": [
      "479 ns ± 10.5 ns per loop (mean ± std. dev. of 7 runs, 1,000,000 loops each)\n"
     ]
    }
   ],
   "source": [
    "%timeit vetor.pesquisa_binaria(8)"
   ]
  },
  {
   "cell_type": "code",
   "execution_count": null,
   "id": "806021fb-6c5d-4f3e-b7bf-99693bbb3907",
   "metadata": {},
   "outputs": [],
   "source": []
  }
 ],
 "metadata": {
  "kernelspec": {
   "display_name": "Python 3 (ipykernel)",
   "language": "python",
   "name": "python3"
  },
  "language_info": {
   "codemirror_mode": {
    "name": "ipython",
    "version": 3
   },
   "file_extension": ".py",
   "mimetype": "text/x-python",
   "name": "python",
   "nbconvert_exporter": "python",
   "pygments_lexer": "ipython3",
   "version": "3.11.0"
  }
 },
 "nbformat": 4,
 "nbformat_minor": 5
}
