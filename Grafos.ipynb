{
 "cells": [
  {
   "cell_type": "markdown",
   "id": "51efa89c-686e-44b0-abd4-27bc16d1628d",
   "metadata": {},
   "source": [
    "# Grafos\n",
    "\n",
    "### Adjacência\n",
    "* Se um nó for conectado a outro por uma única aresta\n",
    "### Caminho\n",
    "* Sequência de arestas"
   ]
  },
  {
   "cell_type": "code",
   "execution_count": 6,
   "id": "dd2d2ebc-81ba-45fc-8add-2347b51f63a6",
   "metadata": {},
   "outputs": [],
   "source": [
    "class Vertice:\n",
    "    def __init__(self,rotulo):\n",
    "        self.rotulo = rotulo\n",
    "        self.visitado = False\n",
    "        self.adjacentes = []\n",
    "        \n",
    "    def adiciona_adjacente(self, adjacente):\n",
    "        self.adjacentes.append(adjacente)\n",
    "        \n",
    "    def mostra_adjacentes(self):\n",
    "        for i in self.adjacentes:\n",
    "            print(i.vertice.rotulo, i.custo)\n",
    "            \n",
    "class Adjacente:\n",
    "    def __init__(self, vertice, custo):\n",
    "        self.vertice = vertice\n",
    "        self.custo = custo\n",
    "        \n",
    "class Grafo:\n",
    "    arad = Vertice('Arad')\n",
    "    zerind = Vertice('Zerind')\n",
    "    oradea = Vertice('Oradea')\n",
    "    sibiu = Vertice('Sibiu')\n",
    "    timisoara = Vertice('Timisoara')\n",
    "    lugoj = Vertice('Lugoj')\n",
    "    mehadia = Vertice('Mehadia')\n",
    "    dobreta = Vertice('Dobreta')\n",
    "    craiova = Vertice('Craiova')\n",
    "    rimnicu = Vertice('Rimnicu')\n",
    "    fagaras = Vertice('Fagaras')\n",
    "    pitesti = Vertice('Pitesti')\n",
    "    bucharest = Vertice('Bucharest')\n",
    "    giurgiu = Vertice('Giurgiu')\n",
    "    \n",
    "    arad.adiciona_adjacente(Adjacente(zerind, 75))\n",
    "    arad.adiciona_adjacente(Adjacente(sibiu, 140))\n",
    "    arad.adiciona_adjacente(Adjacente(timisoara, 118))\n",
    "\n",
    "    zerind.adiciona_adjacente(Adjacente(arad, 75))\n",
    "    zerind.adiciona_adjacente(Adjacente(oradea, 71))\n",
    "\n",
    "    oradea.adiciona_adjacente(Adjacente(zerind, 71))\n",
    "    oradea.adiciona_adjacente(Adjacente(sibiu, 151))\n",
    "\n",
    "    sibiu.adiciona_adjacente(Adjacente(oradea, 151))\n",
    "    sibiu.adiciona_adjacente(Adjacente(arad, 140))\n",
    "    sibiu.adiciona_adjacente(Adjacente(fagaras, 99))\n",
    "    sibiu.adiciona_adjacente(Adjacente(rimnicu, 80))\n",
    "\n",
    "    timisoara.adiciona_adjacente(Adjacente(arad, 118))\n",
    "    timisoara.adiciona_adjacente(Adjacente(lugoj, 111))\n",
    "\n",
    "    lugoj.adiciona_adjacente(Adjacente(timisoara, 111))\n",
    "    lugoj.adiciona_adjacente(Adjacente(mehadia, 70))\n",
    "\n",
    "    mehadia.adiciona_adjacente(Adjacente(lugoj, 70))\n",
    "    mehadia.adiciona_adjacente(Adjacente(dobreta, 75))\n",
    "\n",
    "    dobreta.adiciona_adjacente(Adjacente(mehadia, 75))\n",
    "    dobreta.adiciona_adjacente(Adjacente(craiova, 120))\n",
    "\n",
    "    craiova.adiciona_adjacente(Adjacente(dobreta, 120))\n",
    "    craiova.adiciona_adjacente(Adjacente(pitesti, 138))\n",
    "    craiova.adiciona_adjacente(Adjacente(rimnicu, 146))\n",
    "\n",
    "    rimnicu.adiciona_adjacente(Adjacente(craiova, 146))\n",
    "    rimnicu.adiciona_adjacente(Adjacente(sibiu, 80))\n",
    "    rimnicu.adiciona_adjacente(Adjacente(pitesti, 97))\n",
    "\n",
    "    fagaras.adiciona_adjacente(Adjacente(sibiu, 99))\n",
    "    fagaras.adiciona_adjacente(Adjacente(bucharest, 211))\n",
    "\n",
    "    pitesti.adiciona_adjacente(Adjacente(rimnicu, 97))\n",
    "    pitesti.adiciona_adjacente(Adjacente(craiova, 138))\n",
    "    pitesti.adiciona_adjacente(Adjacente(bucharest, 101))\n",
    "\n",
    "    bucharest.adiciona_adjacente(Adjacente(fagaras, 211))\n",
    "    bucharest.adiciona_adjacente(Adjacente(pitesti, 101))\n",
    "    bucharest.adiciona_adjacente(Adjacente(giurgiu, 90))"
   ]
  },
  {
   "cell_type": "code",
   "execution_count": 7,
   "id": "deccfe42-5273-4961-a970-c8a7043feee2",
   "metadata": {},
   "outputs": [
    {
     "name": "stdout",
     "output_type": "stream",
     "text": [
      "Zerind 75\n",
      "Sibiu 140\n",
      "Timisoara 118\n"
     ]
    }
   ],
   "source": [
    "grafo = Grafo()\n",
    "grafo.arad.mostra_adjacentes()"
   ]
  },
  {
   "cell_type": "code",
   "execution_count": 8,
   "id": "ee8afcbc-2840-489c-bd63-d91f05784c2a",
   "metadata": {},
   "outputs": [
    {
     "name": "stdout",
     "output_type": "stream",
     "text": [
      "Fagaras 211\n",
      "Pitesti 101\n",
      "Giurgiu 90\n"
     ]
    }
   ],
   "source": [
    "grafo.bucharest.mostra_adjacentes()"
   ]
  },
  {
   "cell_type": "markdown",
   "id": "19e9d507-14f3-4668-8055-ef6f375299af",
   "metadata": {},
   "source": [
    "### Busca em profundidade\n",
    "* Visite um nó adjacente não visitado, marque-o e coloque-o na pilha\n",
    "* Se não puder seguir a regra 1, retire um nó da pilha\n",
    "* Se não puder seguir ambas as regras, o algoritmo terminou"
   ]
  },
  {
   "cell_type": "code",
   "execution_count": 12,
   "id": "a8c8a13e-2f69-4fd4-8ede-fea1857655b1",
   "metadata": {},
   "outputs": [],
   "source": [
    "import numpy as np\n",
    "class Pilha:\n",
    "    def __init__(self, capacidade):\n",
    "        self.__capacidade = capacidade\n",
    "        self.__topo = -1\n",
    "        self.__valores = np.empty(self.__capacidade,dtype=object)\n",
    "        \n",
    "    def __pilha_cheia(self):\n",
    "        if self.__topo == self.__capacidade - 1:\n",
    "            return True\n",
    "        else:\n",
    "            return False\n",
    "        \n",
    "    def __pilha_vazia(self):\n",
    "        if self.__topo == -1:\n",
    "            return True\n",
    "        else:\n",
    "            return False\n",
    "        \n",
    "    def empilhar(self, valor):\n",
    "        if self.__pilha_cheia():\n",
    "            print('A pilha está cheia')\n",
    "        else:\n",
    "            self.__topo += 1\n",
    "            self.__valores[self.__topo] = valor\n",
    "    \n",
    "    def desempilhar(self):\n",
    "        if self.__pilha_vazia():\n",
    "            print('A Pilha está vazia')\n",
    "            return None\n",
    "        else:\n",
    "            temp = self.__valores[self.__topo]\n",
    "            self.__topo -= 1\n",
    "            return temp\n",
    "        \n",
    "    def ver_topo(self):\n",
    "        if self.__topo != -1:\n",
    "            return self.__valores[self.__topo]\n",
    "        else:\n",
    "            return -1"
   ]
  },
  {
   "cell_type": "code",
   "execution_count": 14,
   "id": "5d76f8f4-bf5f-4fa1-845c-232d2148a84d",
   "metadata": {},
   "outputs": [
    {
     "data": {
      "text/plain": [
       "'Timisoara'"
      ]
     },
     "execution_count": 14,
     "metadata": {},
     "output_type": "execute_result"
    }
   ],
   "source": [
    "pilha = Pilha(5)\n",
    "pilha.empilhar(grafo.arad)\n",
    "pilha.empilhar(grafo.sibiu)\n",
    "pilha.empilhar(grafo.timisoara)\n",
    "pilha.ver_topo().rotulo"
   ]
  },
  {
   "cell_type": "code",
   "execution_count": 15,
   "id": "36581a7c-7d66-4f06-804f-70ac25227e06",
   "metadata": {},
   "outputs": [
    {
     "data": {
      "text/plain": [
       "'Sibiu'"
      ]
     },
     "execution_count": 15,
     "metadata": {},
     "output_type": "execute_result"
    }
   ],
   "source": [
    "pilha.desempilhar()\n",
    "pilha.ver_topo().rotulo"
   ]
  },
  {
   "cell_type": "code",
   "execution_count": 17,
   "id": "47d932e5-fe97-487c-b49a-b11a023e6817",
   "metadata": {},
   "outputs": [],
   "source": [
    "class BuscaProfundidade:\n",
    "    def __init__(self,inicio):\n",
    "        self.inicio = inicio\n",
    "        self.visitado = True\n",
    "        self.pilha = Pilha(20)\n",
    "        self.pilha.empilhar(inicio)\n",
    "        \n",
    "    def buscar(self):\n",
    "        topo = self.pilha.ver_topo()\n",
    "        print('Topo: {}'.format(topo.rotulo))\n",
    "        for adjacente in topo.adjacentes:\n",
    "            print('Topo é {}. {} Já foi visitada? {}'.format(topo.rotulo, adjacente.vertice.rotulo,adjacente.vertice.visitado))\n",
    "            if adjacente.vertice.visitado == False:\n",
    "                adjacente.vertice.visitado = True\n",
    "                self.pilha.empilhar(adjacente.vertice)\n",
    "                print('Empilhou {}'.format(adjacente.vertice.rotulo))\n",
    "                self.buscar()\n",
    "        print('Desempilhou: {}'.format(self.pilha.desempilhar().rotulo))\n",
    "        print()"
   ]
  },
  {
   "cell_type": "code",
   "execution_count": 18,
   "id": "9d3eb195-eb4b-48b2-a742-1f8b0c0d11d1",
   "metadata": {},
   "outputs": [
    {
     "name": "stdout",
     "output_type": "stream",
     "text": [
      "Topo: Arad\n",
      "Topo é Arad. Zerind Já foi visitada? False\n",
      "Empilhou Zerind\n",
      "Topo: Zerind\n",
      "Topo é Zerind. Arad Já foi visitada? False\n",
      "Empilhou Arad\n",
      "Topo: Arad\n",
      "Topo é Arad. Zerind Já foi visitada? True\n",
      "Topo é Arad. Sibiu Já foi visitada? False\n",
      "Empilhou Sibiu\n",
      "Topo: Sibiu\n",
      "Topo é Sibiu. Oradea Já foi visitada? False\n",
      "Empilhou Oradea\n",
      "Topo: Oradea\n",
      "Topo é Oradea. Zerind Já foi visitada? True\n",
      "Topo é Oradea. Sibiu Já foi visitada? True\n",
      "Desempilhou: Oradea\n",
      "\n",
      "Topo é Sibiu. Arad Já foi visitada? True\n",
      "Topo é Sibiu. Fagaras Já foi visitada? False\n",
      "Empilhou Fagaras\n",
      "Topo: Fagaras\n",
      "Topo é Fagaras. Sibiu Já foi visitada? True\n",
      "Topo é Fagaras. Bucharest Já foi visitada? False\n",
      "Empilhou Bucharest\n",
      "Topo: Bucharest\n",
      "Topo é Bucharest. Fagaras Já foi visitada? True\n",
      "Topo é Bucharest. Pitesti Já foi visitada? False\n",
      "Empilhou Pitesti\n",
      "Topo: Pitesti\n",
      "Topo é Pitesti. Rimnicu Já foi visitada? False\n",
      "Empilhou Rimnicu\n",
      "Topo: Rimnicu\n",
      "Topo é Rimnicu. Craiova Já foi visitada? False\n",
      "Empilhou Craiova\n",
      "Topo: Craiova\n",
      "Topo é Craiova. Dobreta Já foi visitada? False\n",
      "Empilhou Dobreta\n",
      "Topo: Dobreta\n",
      "Topo é Dobreta. Mehadia Já foi visitada? False\n",
      "Empilhou Mehadia\n",
      "Topo: Mehadia\n",
      "Topo é Mehadia. Lugoj Já foi visitada? False\n",
      "Empilhou Lugoj\n",
      "Topo: Lugoj\n",
      "Topo é Lugoj. Timisoara Já foi visitada? False\n",
      "Empilhou Timisoara\n",
      "Topo: Timisoara\n",
      "Topo é Timisoara. Arad Já foi visitada? True\n",
      "Topo é Timisoara. Lugoj Já foi visitada? True\n",
      "Desempilhou: Timisoara\n",
      "\n",
      "Topo é Lugoj. Mehadia Já foi visitada? True\n",
      "Desempilhou: Lugoj\n",
      "\n",
      "Topo é Mehadia. Dobreta Já foi visitada? True\n",
      "Desempilhou: Mehadia\n",
      "\n",
      "Topo é Dobreta. Craiova Já foi visitada? True\n",
      "Desempilhou: Dobreta\n",
      "\n",
      "Topo é Craiova. Pitesti Já foi visitada? True\n",
      "Topo é Craiova. Rimnicu Já foi visitada? True\n",
      "Desempilhou: Craiova\n",
      "\n",
      "Topo é Rimnicu. Sibiu Já foi visitada? True\n",
      "Topo é Rimnicu. Pitesti Já foi visitada? True\n",
      "Desempilhou: Rimnicu\n",
      "\n",
      "Topo é Pitesti. Craiova Já foi visitada? True\n",
      "Topo é Pitesti. Bucharest Já foi visitada? True\n",
      "Desempilhou: Pitesti\n",
      "\n",
      "Topo é Bucharest. Giurgiu Já foi visitada? False\n",
      "Empilhou Giurgiu\n",
      "Topo: Giurgiu\n",
      "Desempilhou: Giurgiu\n",
      "\n",
      "Desempilhou: Bucharest\n",
      "\n",
      "Desempilhou: Fagaras\n",
      "\n",
      "Topo é Sibiu. Rimnicu Já foi visitada? True\n",
      "Desempilhou: Sibiu\n",
      "\n",
      "Topo é Arad. Timisoara Já foi visitada? True\n",
      "Desempilhou: Arad\n",
      "\n",
      "Topo é Zerind. Oradea Já foi visitada? True\n",
      "Desempilhou: Zerind\n",
      "\n",
      "Topo é Arad. Sibiu Já foi visitada? True\n",
      "Topo é Arad. Timisoara Já foi visitada? True\n",
      "Desempilhou: Arad\n",
      "\n"
     ]
    }
   ],
   "source": [
    "busca_profundidade = BuscaProfundidade(grafo.arad)\n",
    "busca_profundidade.buscar()"
   ]
  },
  {
   "cell_type": "code",
   "execution_count": null,
   "id": "d4a9907a-8d7d-43f0-ae3f-e22552e6ea06",
   "metadata": {},
   "outputs": [],
   "source": []
  }
 ],
 "metadata": {
  "kernelspec": {
   "display_name": "Python 3 (ipykernel)",
   "language": "python",
   "name": "python3"
  },
  "language_info": {
   "codemirror_mode": {
    "name": "ipython",
    "version": 3
   },
   "file_extension": ".py",
   "mimetype": "text/x-python",
   "name": "python",
   "nbconvert_exporter": "python",
   "pygments_lexer": "ipython3",
   "version": "3.11.0"
  }
 },
 "nbformat": 4,
 "nbformat_minor": 5
}
