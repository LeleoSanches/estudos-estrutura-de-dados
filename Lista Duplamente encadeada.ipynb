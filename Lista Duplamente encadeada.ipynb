{
 "cells": [
  {
   "cell_type": "code",
   "execution_count": 33,
   "id": "749a5d7d-70d7-4a43-998b-6897b7ebec52",
   "metadata": {},
   "outputs": [],
   "source": [
    "class No:\n",
    "    def __init__(self, valor):\n",
    "        self.valor = valor\n",
    "        self.proximo = None\n",
    "        self.anterior = None\n",
    "        \n",
    "    def mostra_no(self):\n",
    "        print(self.valor)\n",
    "        \n",
    "class ListaDuplamenteEncadeada:\n",
    "    \n",
    "    def __init__(self):\n",
    "        self.primeiro = None\n",
    "        self.ultimo = None\n",
    "        \n",
    "    def __lista_vazia(self):\n",
    "        return self.primeiro == None\n",
    "    \n",
    "    \n",
    "    def insere_inicio(self, valor):\n",
    "        novo = No(valor)\n",
    "        if self.__lista_vazia():\n",
    "            self.ultimo = novo\n",
    "        else:\n",
    "            self.primeiro.anterior = novo\n",
    "        novo.proximo = self.primeiro\n",
    "        self.primeiro = novo\n",
    "        \n",
    "    def mostrar_frente(self):\n",
    "        atual = self.primeiro\n",
    "        while atual != None:\n",
    "            atual.mostra_no()\n",
    "            atual = atual.proximo\n",
    "            \n",
    "    def mostrar_tras(self):\n",
    "        atual = self.ultimo\n",
    "        while atual != None:\n",
    "            atual.mostra_no()\n",
    "            atual = atual.anterior\n",
    "    \n",
    "    def insere_final(self, valor):\n",
    "        novo = No(valor)\n",
    "        if self.__lista_vazia():\n",
    "            self.primeiro = novo\n",
    "        else:\n",
    "            self.ultimo.proximo = novo\n",
    "            novo.anterior = self.ultimo\n",
    "        self.ultimo = novo\n",
    "        \n",
    "    def excluir_inicio(self):\n",
    "        temp = self.primeiro\n",
    "        if self.primeiro.proximo==None:\n",
    "            self.ultimo = None\n",
    "        else:\n",
    "            self.primeiro.proximo.anterior = None\n",
    "        self.primeiro = self.primeiro.proximo\n",
    "        return temp\n",
    "\n",
    "    def excluir_final(self):\n",
    "        temp = self.ultimo\n",
    "        if self.primeiro.proximo == None:\n",
    "            self.primeiro = None\n",
    "        else:\n",
    "            self.ultimo.anterior.proximo = None\n",
    "        self.ultimo = self.ultimo.anterior\n",
    "        return temp\n",
    "    \n",
    "    def excluir_posicao(self, valor):\n",
    "        atual = self.primeiro\n",
    "        while atual.valor != valor:\n",
    "            atual = atual.proximo\n",
    "            if atual == None:\n",
    "                return None\n",
    "        if atual == self.primeiro:\n",
    "            self.primeiro = atual.proximo\n",
    "        else:\n",
    "            atual.anterior.proximo = atual.proximo\n",
    "\n",
    "        if atual == self.ultimo:\n",
    "            self.ultimo = atual.anterior\n",
    "        else:\n",
    "            atual.proximo.anterior = atual.anterior\n",
    "        return atual"
   ]
  },
  {
   "cell_type": "markdown",
   "id": "44fa1fc2-6a90-4220-9d21-69d50651fede",
   "metadata": {},
   "source": [
    "### Insere no início"
   ]
  },
  {
   "cell_type": "code",
   "execution_count": 34,
   "id": "e9cc963c-0320-4d62-a601-b226308e7b84",
   "metadata": {},
   "outputs": [
    {
     "name": "stdout",
     "output_type": "stream",
     "text": [
      "5\n",
      "4\n",
      "3\n",
      "2\n",
      "1\n"
     ]
    }
   ],
   "source": [
    "lista = ListaDuplamenteEncadeada()\n",
    "lista.insere_inicio(1)\n",
    "lista.insere_inicio(2)\n",
    "lista.insere_inicio(3)\n",
    "lista.insere_inicio(4)\n",
    "lista.insere_inicio(5)\n",
    "lista.mostrar_frente()"
   ]
  },
  {
   "cell_type": "code",
   "execution_count": 35,
   "id": "3f9070d6-3373-476e-a0d3-937d763e49b1",
   "metadata": {},
   "outputs": [
    {
     "data": {
      "text/plain": [
       "(5, 1)"
      ]
     },
     "execution_count": 35,
     "metadata": {},
     "output_type": "execute_result"
    }
   ],
   "source": [
    "lista.primeiro.valor, lista.ultimo.valor"
   ]
  },
  {
   "cell_type": "code",
   "execution_count": 36,
   "id": "c1efe047-caa5-4043-b819-c5f93ff980ca",
   "metadata": {},
   "outputs": [
    {
     "name": "stdout",
     "output_type": "stream",
     "text": [
      "1\n",
      "2\n",
      "3\n",
      "4\n",
      "5\n"
     ]
    }
   ],
   "source": [
    "lista.mostrar_tras()"
   ]
  },
  {
   "cell_type": "markdown",
   "id": "4ca44f8b-26a0-4994-b4a4-c73a79af6560",
   "metadata": {},
   "source": [
    "### Insere no final"
   ]
  },
  {
   "cell_type": "code",
   "execution_count": 37,
   "id": "71864fe6-8ff7-4543-9b7f-026b78eef290",
   "metadata": {},
   "outputs": [
    {
     "name": "stdout",
     "output_type": "stream",
     "text": [
      "2\n",
      "1\n",
      "3\n",
      "4\n"
     ]
    }
   ],
   "source": [
    "lista = ListaDuplamenteEncadeada()\n",
    "lista.insere_inicio(1)\n",
    "lista.insere_inicio(2)\n",
    "lista.insere_final(3)\n",
    "lista.insere_final(4)\n",
    "lista.mostrar_frente()"
   ]
  },
  {
   "cell_type": "markdown",
   "id": "80513995-8760-457a-8a98-c0c3dbac7fc3",
   "metadata": {},
   "source": [
    "### Excluir início e final"
   ]
  },
  {
   "cell_type": "code",
   "execution_count": 38,
   "id": "67d1223b-78e6-45cc-a415-925ae2b65012",
   "metadata": {},
   "outputs": [
    {
     "name": "stdout",
     "output_type": "stream",
     "text": [
      "5\n",
      "4\n",
      "3\n",
      "2\n",
      "1\n"
     ]
    }
   ],
   "source": [
    "lista = ListaDuplamenteEncadeada()\n",
    "lista.insere_inicio(1)\n",
    "lista.insere_inicio(2)\n",
    "lista.insere_inicio(3)\n",
    "lista.insere_inicio(4)\n",
    "lista.insere_inicio(5)\n",
    "lista.mostrar_frente()"
   ]
  },
  {
   "cell_type": "code",
   "execution_count": 39,
   "id": "c6f990b8-662c-46d7-9c65-4b92fc968105",
   "metadata": {},
   "outputs": [
    {
     "name": "stdout",
     "output_type": "stream",
     "text": [
      "4\n",
      "3\n",
      "2\n"
     ]
    }
   ],
   "source": [
    "lista.excluir_inicio()\n",
    "lista.excluir_final()\n",
    "lista.mostrar_frente()"
   ]
  },
  {
   "cell_type": "markdown",
   "id": "5647c52c-e110-45b4-a5a8-4d8d8c90614e",
   "metadata": {},
   "source": [
    "### Excluir Posição"
   ]
  },
  {
   "cell_type": "code",
   "execution_count": 40,
   "id": "feb18ff2-205f-4e66-a6ad-d7a00febccf0",
   "metadata": {},
   "outputs": [
    {
     "name": "stdout",
     "output_type": "stream",
     "text": [
      "5\n",
      "4\n",
      "3\n",
      "2\n",
      "1\n"
     ]
    }
   ],
   "source": [
    "lista = ListaDuplamenteEncadeada()\n",
    "lista.insere_inicio(1)\n",
    "lista.insere_inicio(2)\n",
    "lista.insere_inicio(3)\n",
    "lista.insere_inicio(4)\n",
    "lista.insere_inicio(5)\n",
    "lista.mostrar_frente()"
   ]
  },
  {
   "cell_type": "code",
   "execution_count": 41,
   "id": "7f78ab0a-c884-4e19-954c-7dedad2f01e3",
   "metadata": {},
   "outputs": [
    {
     "name": "stdout",
     "output_type": "stream",
     "text": [
      "5\n",
      "4\n",
      "2\n",
      "1\n"
     ]
    }
   ],
   "source": [
    "lista.excluir_posicao(3)\n",
    "lista.mostrar_frente()"
   ]
  },
  {
   "cell_type": "code",
   "execution_count": null,
   "id": "a4cc7236-d7ef-4354-b8eb-779f686055f1",
   "metadata": {},
   "outputs": [],
   "source": []
  }
 ],
 "metadata": {
  "kernelspec": {
   "display_name": "Python 3 (ipykernel)",
   "language": "python",
   "name": "python3"
  },
  "language_info": {
   "codemirror_mode": {
    "name": "ipython",
    "version": 3
   },
   "file_extension": ".py",
   "mimetype": "text/x-python",
   "name": "python",
   "nbconvert_exporter": "python",
   "pygments_lexer": "ipython3",
   "version": "3.11.0"
  }
 },
 "nbformat": 4,
 "nbformat_minor": 5
}
