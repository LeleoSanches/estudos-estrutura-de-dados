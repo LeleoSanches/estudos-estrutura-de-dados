{
 "cells": [
  {
   "cell_type": "code",
   "execution_count": 21,
   "id": "ea077210-345b-43b2-accd-1120ca6f9964",
   "metadata": {},
   "outputs": [],
   "source": [
    "class No:\n",
    "    def __init__(self, valor):\n",
    "        self.valor = valor\n",
    "        self.proximo = None\n",
    "        \n",
    "    def mostra_no(self):\n",
    "        print(self.valor)\n",
    "        \n",
    "class PilhaListaEncadeada:\n",
    "    def __init__(self):\n",
    "        self.primeiro = None\n",
    "        self.__topo = -1\n",
    "    \n",
    "    def __pilha_vazia(self):\n",
    "        if self.__topo == -1:\n",
    "            return True\n",
    "        else:\n",
    "            return False\n",
    "    \n",
    "    def empilhar(self, valor):\n",
    "        novo = No(valor)\n",
    "        novo.proximo = self.primeiro\n",
    "        self.primeiro = novo\n",
    "        self.__topo += 1\n",
    "    \n",
    "    def desempilhar(self):\n",
    "        if self.__pilha_vazia():\n",
    "            print(\"A pilha está vazia\")\n",
    "            return\n",
    "        else:\n",
    "            self.__topo -= 1\n",
    "            self.primeiro = self.primeiro.proximo\n",
    "        \n",
    "    def ver_topo(self):\n",
    "        if self.primeiro == None:\n",
    "            print('A lista está vazia')\n",
    "            return None\n",
    "        self.primeiro.mostra_no()"
   ]
  },
  {
   "cell_type": "code",
   "execution_count": 22,
   "id": "72dd1d09-8d9d-409b-a2e1-18d8e4795654",
   "metadata": {},
   "outputs": [
    {
     "name": "stdout",
     "output_type": "stream",
     "text": [
      "4\n"
     ]
    }
   ],
   "source": [
    "lista = PilhaListaEncadeada()\n",
    "lista.empilhar(1)\n",
    "lista.empilhar(2)\n",
    "lista.empilhar(3)\n",
    "lista.empilhar(4)\n",
    "lista.ver_topo()"
   ]
  },
  {
   "cell_type": "code",
   "execution_count": 23,
   "id": "109d9618-8354-4613-9f7a-e345f44d2450",
   "metadata": {},
   "outputs": [
    {
     "name": "stdout",
     "output_type": "stream",
     "text": [
      "3\n"
     ]
    }
   ],
   "source": [
    "lista.desempilhar()\n",
    "lista.ver_topo()"
   ]
  },
  {
   "cell_type": "code",
   "execution_count": 24,
   "id": "7b2a3fd7-60fc-4689-8485-db04419b475b",
   "metadata": {},
   "outputs": [
    {
     "name": "stdout",
     "output_type": "stream",
     "text": [
      "1\n"
     ]
    }
   ],
   "source": [
    "lista.desempilhar()\n",
    "lista.desempilhar()\n",
    "lista.ver_topo()"
   ]
  },
  {
   "cell_type": "code",
   "execution_count": 25,
   "id": "16447d3d-e390-4976-8954-6d4b916a9699",
   "metadata": {},
   "outputs": [],
   "source": [
    "lista.desempilhar()"
   ]
  },
  {
   "cell_type": "code",
   "execution_count": 26,
   "id": "77665368-83de-4025-80de-05886b96b4a1",
   "metadata": {},
   "outputs": [
    {
     "name": "stdout",
     "output_type": "stream",
     "text": [
      "A lista está vazia\n"
     ]
    }
   ],
   "source": [
    "lista.ver_topo()"
   ]
  },
  {
   "cell_type": "code",
   "execution_count": null,
   "id": "b81e39f1-1553-402a-bbeb-873ed839ba9d",
   "metadata": {},
   "outputs": [],
   "source": []
  }
 ],
 "metadata": {
  "kernelspec": {
   "display_name": "Python 3 (ipykernel)",
   "language": "python",
   "name": "python3"
  },
  "language_info": {
   "codemirror_mode": {
    "name": "ipython",
    "version": 3
   },
   "file_extension": ".py",
   "mimetype": "text/x-python",
   "name": "python",
   "nbconvert_exporter": "python",
   "pygments_lexer": "ipython3",
   "version": "3.11.0"
  }
 },
 "nbformat": 4,
 "nbformat_minor": 5
}
