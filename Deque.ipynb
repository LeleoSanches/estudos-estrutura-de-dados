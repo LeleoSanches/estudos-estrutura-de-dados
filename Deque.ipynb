{
 "cells": [
  {
   "cell_type": "code",
   "execution_count": 1,
   "id": "e509741d-b09a-4b14-bd39-03647b212911",
   "metadata": {},
   "outputs": [],
   "source": [
    "import numpy as np"
   ]
  },
  {
   "cell_type": "code",
   "execution_count": 30,
   "id": "d231abfa-ccdb-4a8b-a9ea-e7f712f50457",
   "metadata": {},
   "outputs": [],
   "source": [
    "class Deque:\n",
    "  \n",
    "    def __init__(self, capacidade):\n",
    "        self.capacidade = capacidade\n",
    "        self.inicio = -1\n",
    "        self.final = 0\n",
    "        self.numero_elementos = 0\n",
    "        self.valores = np.empty(self.capacidade, dtype=int)\n",
    "\n",
    "    def __deque_cheio(self):\n",
    "        return (self.inicio == 0 and self.final == self.capacidade - 1) or (self.inicio == self.final + 1)\n",
    "\n",
    "    def __deque_vazio(self):\n",
    "        return self.inicio == -1\n",
    "\n",
    "    def insere_inicio(self, valor):\n",
    "        if self.__deque_cheio():\n",
    "            print('O deque está cheio')\n",
    "            return\n",
    "\n",
    "    # Se estiver vazio\n",
    "        if self.inicio == -1:\n",
    "            self.inicio = 0\n",
    "            self.final = 0\n",
    "# Início estiver na primeira posição\n",
    "        elif self.inicio == 0:\n",
    "            self.inicio = self.capacidade - 1\n",
    "        else:\n",
    "            self.inicio -= 1\n",
    "\n",
    "        self.valores[self.inicio] = valor\n",
    "\n",
    "    def insere_final(self, valor):\n",
    "        if self.__deque_cheio():\n",
    "            print('O deque está cheio')\n",
    "            return\n",
    "\n",
    "    # Se estiver vazio\n",
    "        if self.inicio == -1:\n",
    "            self.inicio = 0\n",
    "            self.final = 0\n",
    "# Final estiver na última posição\n",
    "        elif self.final == self.capacidade - 1:\n",
    "            self.final = 0\n",
    "        else:\n",
    "            self.final += 1\n",
    "\n",
    "        self.valores[self.final] = valor\n",
    "\n",
    "    def excluir_inicio(self):\n",
    "        if self.__deque_vazio():\n",
    "            print('O deque já está vazio')\n",
    "            return\n",
    "\n",
    "# Possui somente um elemento\n",
    "        if self.inicio == self.final:\n",
    "            self.inicio = -1\n",
    "            self.final = -1\n",
    "        else:\n",
    "# Volta para a posição inicial\n",
    "            if self.inicio == self.capacidade - 1:\n",
    "                self.inicio = 0\n",
    "            else:\n",
    "# Incrementar início para remover o início atual\n",
    "                self.inicio += 1\n",
    "\n",
    "    def excluir_final(self):\n",
    "        if self.__deque_vazio():\n",
    "            print('O deque já está vazio')\n",
    "            return\n",
    "\n",
    "        if self.inicio == self.final:\n",
    "            self.inicio = -1\n",
    "            self.final = -1\n",
    "        elif self.inicio == 0:\n",
    "            self.final = self.capacidade - 1\n",
    "        else:\n",
    "            self.final -= 1\n",
    "\n",
    "    def get_inicio(self):\n",
    "        if self.__deque_vazio():\n",
    "            print('O deque já está vazio')\n",
    "            return\n",
    "\n",
    "        return self.valores[self.inicio]\n",
    "\n",
    "    def get_final(self):\n",
    "        if self.__deque_vazio() or self.final < 0:\n",
    "            print('O deque já está vazio')\n",
    "            return\n",
    "\n",
    "        return self.valores[self.final]"
   ]
  },
  {
   "cell_type": "code",
   "execution_count": 35,
   "id": "eff4145e-bbe5-4170-b2a6-8de79dd3d985",
   "metadata": {},
   "outputs": [],
   "source": [
    "deque = Deque(5)"
   ]
  },
  {
   "cell_type": "code",
   "execution_count": 36,
   "id": "1d65336c-1cb1-41ba-bebc-9d9419dc6cc3",
   "metadata": {},
   "outputs": [
    {
     "data": {
      "text/plain": [
       "(2, 2)"
      ]
     },
     "execution_count": 36,
     "metadata": {},
     "output_type": "execute_result"
    }
   ],
   "source": [
    "deque.insere_final(2)\n",
    "deque.get_inicio(), deque.get_final()"
   ]
  },
  {
   "cell_type": "code",
   "execution_count": 37,
   "id": "d498b5ae-ed3d-45ea-bc3b-0d0b9490b723",
   "metadata": {},
   "outputs": [
    {
     "data": {
      "text/plain": [
       "(2, 7)"
      ]
     },
     "execution_count": 37,
     "metadata": {},
     "output_type": "execute_result"
    }
   ],
   "source": [
    "deque.insere_final(7)\n",
    "deque.get_inicio(), deque.get_final()"
   ]
  },
  {
   "cell_type": "code",
   "execution_count": 38,
   "id": "ba11f1f6-366c-4cf4-abec-7a0355625bfc",
   "metadata": {},
   "outputs": [
    {
     "data": {
      "text/plain": [
       "(1, 7)"
      ]
     },
     "execution_count": 38,
     "metadata": {},
     "output_type": "execute_result"
    }
   ],
   "source": [
    "deque.insere_inicio(1)\n",
    "deque.get_inicio(), deque.get_final()"
   ]
  },
  {
   "cell_type": "code",
   "execution_count": 39,
   "id": "b27a8cb8-e60a-4163-a5b2-911b565c2475",
   "metadata": {},
   "outputs": [
    {
     "data": {
      "text/plain": [
       "(0, 10)"
      ]
     },
     "execution_count": 39,
     "metadata": {},
     "output_type": "execute_result"
    }
   ],
   "source": [
    "deque.insere_inicio(0)\n",
    "deque.insere_final(10)\n",
    "deque.get_inicio(), deque.get_final()"
   ]
  },
  {
   "cell_type": "code",
   "execution_count": 40,
   "id": "e80f210f-dd9c-4bad-aa32-07b51a0a0fe9",
   "metadata": {},
   "outputs": [],
   "source": [
    "deque.excluir_inicio()"
   ]
  },
  {
   "cell_type": "code",
   "execution_count": 41,
   "id": "d56a7fb2-7925-4d30-8dbc-285505fd8c42",
   "metadata": {},
   "outputs": [
    {
     "data": {
      "text/plain": [
       "(1, 7)"
      ]
     },
     "execution_count": 41,
     "metadata": {},
     "output_type": "execute_result"
    }
   ],
   "source": [
    "deque.excluir_final()\n",
    "deque.get_inicio(), deque.get_final()"
   ]
  },
  {
   "cell_type": "code",
   "execution_count": 42,
   "id": "4b1176d3-3f4d-4864-a8f0-6f41d8170271",
   "metadata": {},
   "outputs": [
    {
     "data": {
      "text/plain": [
       "array([ 2,  7, 10,  0,  1])"
      ]
     },
     "execution_count": 42,
     "metadata": {},
     "output_type": "execute_result"
    }
   ],
   "source": [
    "deque.valores"
   ]
  },
  {
   "cell_type": "code",
   "execution_count": null,
   "id": "1868cc1b-36de-4d9f-8de0-08c0732df92a",
   "metadata": {},
   "outputs": [],
   "source": []
  }
 ],
 "metadata": {
  "kernelspec": {
   "display_name": "Python 3 (ipykernel)",
   "language": "python",
   "name": "python3"
  },
  "language_info": {
   "codemirror_mode": {
    "name": "ipython",
    "version": 3
   },
   "file_extension": ".py",
   "mimetype": "text/x-python",
   "name": "python",
   "nbconvert_exporter": "python",
   "pygments_lexer": "ipython3",
   "version": "3.11.0"
  }
 },
 "nbformat": 4,
 "nbformat_minor": 5
}
