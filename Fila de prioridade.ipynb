{
 "cells": [
  {
   "cell_type": "code",
   "execution_count": 1,
   "id": "4243cbbd-6109-4b5f-be4a-693d03460dd3",
   "metadata": {},
   "outputs": [],
   "source": [
    "import numpy as np"
   ]
  },
  {
   "cell_type": "code",
   "execution_count": 5,
   "id": "6673cce9-2dac-47c1-a056-a95d30bbe553",
   "metadata": {},
   "outputs": [],
   "source": [
    "class FilaPrioridade:\n",
    "    \n",
    "    def __init__(self, capacidade):\n",
    "        self.capacidade = capacidade\n",
    "        self.numero_elementos = 0\n",
    "        self.valores = np.empty(self.capacidade, dtype=int)\n",
    "    \n",
    "    def __fila_vazia(self):\n",
    "        return self.numero_elementos == 0\n",
    "    \n",
    "    def __fila_cheia(self):\n",
    "        return self.numero_elementos == self.capacidade\n",
    "    \n",
    "    def primeiro(self):\n",
    "        if self.__fila_vazia():\n",
    "            return -1\n",
    "        return self.valores[self.numero_elementos -1]\n",
    "    \n",
    "    def enfileirar(self,valor):\n",
    "        if self.__fila_cheia():\n",
    "            print('A fila está cheia')\n",
    "            return\n",
    "        if self.numero_elementos == 0:\n",
    "            self.valores[self.numero_elementos] = valor\n",
    "            self.numero_elementos += 1\n",
    "        else:\n",
    "            x = self.numero_elementos -1\n",
    "            while x>= 0:\n",
    "                if valor > self.valores[x]:\n",
    "                    self.valores[x+1] = self.valores[x]\n",
    "                else:\n",
    "                    break\n",
    "                x -= 1\n",
    "            self.valores[x+1] = valor\n",
    "            self.numero_elementos += 1\n",
    "        \n",
    "    def desenfileirar(self):\n",
    "        if self.__fila_vazia():\n",
    "            print('A fila está vazia')\n",
    "            return\n",
    "        \n",
    "        valor = self.valores[self.numero_elementos -1]\n",
    "        self.numero_elementos -= 1\n",
    "        return valor\n",
    "    "
   ]
  },
  {
   "cell_type": "code",
   "execution_count": 6,
   "id": "f4fc9907-2ff8-4335-a715-ced30bdd5ef4",
   "metadata": {},
   "outputs": [],
   "source": [
    "fila = FilaPrioridade(5)"
   ]
  },
  {
   "cell_type": "code",
   "execution_count": 7,
   "id": "0f3b890a-c1e9-4cbb-a196-306ef01dcfbd",
   "metadata": {},
   "outputs": [
    {
     "data": {
      "text/plain": [
       "10"
      ]
     },
     "execution_count": 7,
     "metadata": {},
     "output_type": "execute_result"
    }
   ],
   "source": [
    "fila.enfileirar(10)\n",
    "fila.primeiro()"
   ]
  },
  {
   "cell_type": "code",
   "execution_count": 8,
   "id": "0c3c3d91-4d14-43f6-b7c7-6607c5e04a48",
   "metadata": {},
   "outputs": [
    {
     "data": {
      "text/plain": [
       "10"
      ]
     },
     "execution_count": 8,
     "metadata": {},
     "output_type": "execute_result"
    }
   ],
   "source": [
    "fila.enfileirar(15)\n",
    "fila.primeiro()"
   ]
  },
  {
   "cell_type": "code",
   "execution_count": 9,
   "id": "3f20b8fb-eb82-40b3-a119-a2f415ce0612",
   "metadata": {},
   "outputs": [
    {
     "data": {
      "text/plain": [
       "12"
      ]
     },
     "execution_count": 9,
     "metadata": {},
     "output_type": "execute_result"
    }
   ],
   "source": [
    "fila.enfileirar(12)\n",
    "fila.desenfileirar()\n",
    "fila.primeiro()"
   ]
  },
  {
   "cell_type": "code",
   "execution_count": null,
   "id": "ad4eac5f-2be0-4ac4-8549-3762078f6dd9",
   "metadata": {},
   "outputs": [],
   "source": []
  }
 ],
 "metadata": {
  "kernelspec": {
   "display_name": "Python 3 (ipykernel)",
   "language": "python",
   "name": "python3"
  },
  "language_info": {
   "codemirror_mode": {
    "name": "ipython",
    "version": 3
   },
   "file_extension": ".py",
   "mimetype": "text/x-python",
   "name": "python",
   "nbconvert_exporter": "python",
   "pygments_lexer": "ipython3",
   "version": "3.11.0"
  }
 },
 "nbformat": 4,
 "nbformat_minor": 5
}
