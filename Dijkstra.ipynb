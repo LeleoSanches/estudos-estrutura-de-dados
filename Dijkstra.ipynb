{
 "cells": [
  {
   "cell_type": "markdown",
   "id": "63a45cbd-3a15-4f19-9cc5-4310dab2c5b2",
   "metadata": {},
   "source": [
    "## Caminho mais curto com o algoritmo de Dijkstra\n"
   ]
  },
  {
   "cell_type": "markdown",
   "id": "ef54a274-3c8d-48b7-922f-278bceb1289e",
   "metadata": {},
   "source": [
    "### Estrutura do grafo"
   ]
  },
  {
   "cell_type": "code",
   "execution_count": 15,
   "id": "f0b44b2a-9363-4f8d-a971-ab749445b78c",
   "metadata": {},
   "outputs": [],
   "source": [
    "import numpy as np\n",
    "\n",
    "vertices = {'arad':0, 'zerind':1,'oradea':2,'sibiu':3,'timisoara':4,\n",
    "           'lugoj':5, 'mehadia':6,'dobreta':7, 'craiova':8, 'rimnicu':9,\n",
    "           'fagaras':10,'pitesti':11,'bucharest':12,'giurgiu':13}\n",
    "\n",
    "cidades = {0:'arad', 1:'zerind', 2:'oradea', 3:'sibiu', 4:'timisoara',\n",
    "          5:'lugoj', 6:'mehadia', 7:'dobreta',8:'craiova', 9:'rimnicu',\n",
    "          10:'fagaras', 11:'pitesti', 12:'bucharest', 13:'giurgiu'}\n",
    "\n",
    "arestas = np.zeros([len(cidades),len(cidades)],dtype=int)\n",
    "\n",
    "arestas[vertices['arad'], [vertices['zerind']]] = 75\n",
    "arestas[vertices['arad'], [vertices['sibiu']]] = 140\n",
    "arestas[vertices['arad'],[vertices['timisoara']]] = 118\n",
    "\n",
    "arestas[vertices['zerind'], [vertices['arad']]] = 75\n",
    "arestas[vertices['zerind'], [vertices['oradea']]] = 71\n",
    "\n",
    "arestas[vertices['oradea'], [vertices['zerind']]] = 71\n",
    "arestas[vertices['oradea'], [vertices['sibiu']]] = 151\n",
    "\n",
    "arestas[vertices['sibiu'], [vertices['oradea']]] = 151\n",
    "arestas[vertices['sibiu'], [vertices['arad']]] = 140\n",
    "arestas[vertices['sibiu'], [vertices['fagaras']]] = 99\n",
    "arestas[vertices['sibiu'], [vertices['rimnicu']]] = 80\n",
    "\n",
    "arestas[vertices['timisoara'], [vertices['arad']]] = 118\n",
    "arestas[vertices['timisoara'], [vertices['lugoj']]] = 111\n",
    "\n",
    "arestas[vertices['lugoj'], [vertices['timisoara']]] = 111\n",
    "arestas[vertices['lugoj'], [vertices['mehadia']]] = 70\n",
    "\n",
    "arestas[vertices['mehadia'], [vertices['lugoj']]] = 70\n",
    "arestas[vertices['mehadia'], [vertices['dobreta']]] = 75\n",
    "\n",
    "arestas[vertices['dobreta'], [vertices['mehadia']]] = 75\n",
    "arestas[vertices['dobreta'], [vertices['craiova']]] = 120\n",
    "\n",
    "arestas[vertices['craiova'], [vertices['dobreta']]] = 120\n",
    "arestas[vertices['craiova'], [vertices['pitesti']]] = 138\n",
    "arestas[vertices['craiova'], [vertices['rimnicu']]] = 146\n",
    "\n",
    "arestas[vertices['rimnicu'], [vertices['craiova']]] = 146\n",
    "arestas[vertices['rimnicu'], [vertices['sibiu']]] = 80\n",
    "arestas[vertices['rimnicu'], [vertices['pitesti']]] = 97\n",
    "\n",
    "arestas[vertices['fagaras'], [vertices['sibiu']]] = 99\n",
    "arestas[vertices['fagaras'], [vertices['bucharest']]] = 211\n",
    "\n",
    "arestas[vertices['pitesti'], [vertices['rimnicu']]] = 97\n",
    "arestas[vertices['pitesti'], [vertices['craiova']]] = 138\n",
    "arestas[vertices['pitesti'], [vertices['bucharest']]] = 101\n",
    "\n",
    "arestas[vertices['bucharest'], [vertices['fagaras']]] = 211\n",
    "arestas[vertices['bucharest'], [vertices['pitesti']]] = 101\n",
    "arestas[vertices['bucharest'], [vertices['giurgiu']]] = 90\n"
   ]
  },
  {
   "cell_type": "code",
   "execution_count": 16,
   "id": "e4fdce3d-ed8e-4b29-b3c4-0a294e3a46d8",
   "metadata": {},
   "outputs": [
    {
     "data": {
      "text/plain": [
       "array([[  0,  75,   0, 140, 118,   0,   0,   0,   0,   0,   0,   0,   0,\n",
       "          0],\n",
       "       [ 75,   0,  71,   0,   0,   0,   0,   0,   0,   0,   0,   0,   0,\n",
       "          0],\n",
       "       [  0,  71,   0, 151,   0,   0,   0,   0,   0,   0,   0,   0,   0,\n",
       "          0],\n",
       "       [140,   0, 151,   0,   0,   0,   0,   0,   0,  80,  99,   0,   0,\n",
       "          0],\n",
       "       [118,   0,   0,   0,   0, 111,   0,   0,   0,   0,   0,   0,   0,\n",
       "          0],\n",
       "       [  0,   0,   0,   0, 111,   0,  70,   0,   0,   0,   0,   0,   0,\n",
       "          0],\n",
       "       [  0,   0,   0,   0,   0,  70,   0,  75,   0,   0,   0,   0,   0,\n",
       "          0],\n",
       "       [  0,   0,   0,   0,   0,   0,  75,   0, 120,   0,   0,   0,   0,\n",
       "          0],\n",
       "       [  0,   0,   0,   0,   0,   0,   0, 120,   0, 146,   0, 138,   0,\n",
       "          0],\n",
       "       [  0,   0,   0,  80,   0,   0,   0,   0, 146,   0,   0,  97,   0,\n",
       "          0],\n",
       "       [  0,   0,   0,  99,   0,   0,   0,   0,   0,   0,   0,   0, 211,\n",
       "          0],\n",
       "       [  0,   0,   0,   0,   0,   0,   0,   0, 138,  97,   0,   0, 101,\n",
       "          0],\n",
       "       [  0,   0,   0,   0,   0,   0,   0,   0,   0,   0, 211, 101,   0,\n",
       "         90],\n",
       "       [  0,   0,   0,   0,   0,   0,   0,   0,   0,   0,   0,   0,   0,\n",
       "          0]])"
      ]
     },
     "execution_count": 16,
     "metadata": {},
     "output_type": "execute_result"
    }
   ],
   "source": [
    "arestas"
   ]
  },
  {
   "cell_type": "markdown",
   "id": "585745fb-918b-4f2e-9fe7-ad5efbc63df3",
   "metadata": {},
   "source": [
    "## Algoritmo de Dijkstra"
   ]
  },
  {
   "cell_type": "code",
   "execution_count": 17,
   "id": "9ec298af-f84e-4de5-9aca-d61d5d985695",
   "metadata": {},
   "outputs": [],
   "source": [
    "import sys\n",
    "class Dijkstra:\n",
    "    def __init__(self, vertices, arestas, inicio):\n",
    "        self.tamanho = len(vertices)\n",
    "        self.vertices = vertices\n",
    "        self.grafo = arestas\n",
    "        self.inicio = inicio\n",
    "        \n",
    "    def mostra_solucao(self, distancias):\n",
    "        print('Menores Distâncias de {} até todos os outros'.format(self.vertices[self.inicio]))\n",
    "        for vertice in range(self.tamanho):\n",
    "            print(self.vertices[vertice],distancias[vertice])\n",
    "            \n",
    "    def distancia_minima(self, distancia, visitados):\n",
    "        minimo = sys.maxsize\n",
    "        for vertice in range(self.tamanho):\n",
    "            if distancia[vertice] < minimo and visitados[vertice] == False:\n",
    "                minimo = distancia[vertice]\n",
    "                indice_minimo = vertice\n",
    "        return indice_minimo\n",
    "    \n",
    "    def dijkstra(self):\n",
    "        distancia = [sys.maxsize] * self.tamanho\n",
    "        distancia[self.inicio] = 0\n",
    "        visitados = [False] * self.tamanho\n",
    "        \n",
    "        for _ in range(self.tamanho):\n",
    "            indice_minimo = self.distancia_minima(distancia, visitados)\n",
    "            visitados[indice_minimo] = True\n",
    "            for vertice in range(self.tamanho):\n",
    "                if self.grafo[indice_minimo][vertice] > 0 and visitados[vertice] == False \\\n",
    "                    and distancia[vertice] > distancia[indice_minimo] + self.grafo[indice_minimo][vertice]:\n",
    "                    distancia[vertice] = distancia[indice_minimo] + self.grafo[indice_minimo][vertice]\n",
    "              \n",
    "        self.mostra_solucao(distancia)   "
   ]
  },
  {
   "cell_type": "code",
   "execution_count": 18,
   "id": "ab90db7f-c79f-441b-8c56-d43d8e8597b1",
   "metadata": {},
   "outputs": [
    {
     "name": "stdout",
     "output_type": "stream",
     "text": [
      "Menores Distâncias de arad até todos os outros\n",
      "arad 0\n",
      "zerind 75\n",
      "oradea 146\n",
      "sibiu 140\n",
      "timisoara 118\n",
      "lugoj 229\n",
      "mehadia 299\n",
      "dobreta 374\n",
      "craiova 366\n",
      "rimnicu 220\n",
      "fagaras 239\n",
      "pitesti 317\n",
      "bucharest 418\n",
      "giurgiu 508\n"
     ]
    }
   ],
   "source": [
    "dijkstra = Dijkstra(cidades, arestas, vertices['arad'])\n",
    "dijkstra.dijkstra()"
   ]
  },
  {
   "cell_type": "code",
   "execution_count": null,
   "id": "dc7a14d3-05bc-4b4b-8ad1-d8446e93cf36",
   "metadata": {},
   "outputs": [],
   "source": []
  }
 ],
 "metadata": {
  "kernelspec": {
   "display_name": "Python 3 (ipykernel)",
   "language": "python",
   "name": "python3"
  },
  "language_info": {
   "codemirror_mode": {
    "name": "ipython",
    "version": 3
   },
   "file_extension": ".py",
   "mimetype": "text/x-python",
   "name": "python",
   "nbconvert_exporter": "python",
   "pygments_lexer": "ipython3",
   "version": "3.11.0"
  }
 },
 "nbformat": 4,
 "nbformat_minor": 5
}
