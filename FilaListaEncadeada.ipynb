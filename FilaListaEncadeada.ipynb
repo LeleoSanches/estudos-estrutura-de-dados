{
 "cells": [
  {
   "cell_type": "code",
   "execution_count": 2,
   "id": "2945fa8d-d45f-4f63-adc7-f1dd68dee7a0",
   "metadata": {},
   "outputs": [],
   "source": [
    "class No:\n",
    "    def __init__(self, valor):\n",
    "        self.valor = valor\n",
    "        self.proximo = None\n",
    "        self.anterior = None\n",
    "        \n",
    "    def mostra_no(self):\n",
    "        print(self.valor)\n",
    "        \n",
    "class ListaDuplamenteEncadeada:\n",
    "    \n",
    "    def __init__(self):\n",
    "        self.primeiro = None\n",
    "        self.ultimo = None\n",
    "        \n",
    "    def __lista_vazia(self):\n",
    "        return self.primeiro == None\n",
    "        \n",
    "    def mostrar_frente(self):\n",
    "        atual = self.primeiro\n",
    "        while atual != None:\n",
    "            atual.mostra_no()\n",
    "            atual = atual.proximo\n",
    "            \n",
    "    def insere_final(self, valor):\n",
    "        novo = No(valor)\n",
    "        if self.__lista_vazia():\n",
    "            self.primeiro = novo\n",
    "        else:\n",
    "            self.ultimo.proximo = novo\n",
    "            novo.anterior = self.ultimo\n",
    "        self.ultimo = novo\n",
    "        \n",
    "    def excluir_inicio(self):\n",
    "        temp = self.primeiro\n",
    "        if self.primeiro.proximo==None:\n",
    "            self.ultimo = None\n",
    "        else:\n",
    "            self.primeiro.proximo.anterior = None\n",
    "        self.primeiro = self.primeiro.proximo\n",
    "        return temp\n",
    "\n",
    "class FilaListaEncadeada:\n",
    "    def __init__(self):\n",
    "        self.lista = ListaDuplamenteEncadeada()\n",
    "    \n",
    "    def fila_vazia(self):\n",
    "        return self.lista.__lista_vazia()\n",
    "    \n",
    "    def enfileirar(self, valor):\n",
    "        self.lista.insere_final(valor)\n",
    "        \n",
    "    def desenfileirar(self):\n",
    "        return self.lista.excluir_inicio()\n",
    "    \n",
    "    def ver_inicio(self):\n",
    "        if self.lista.primeiro == None:\n",
    "            print('Lista Vazia')\n",
    "            return\n",
    "        return self.lista.primeiro.valor"
   ]
  },
  {
   "cell_type": "code",
   "execution_count": 3,
   "id": "78ebf264-f275-4b65-a5c7-8e0e617aa9e8",
   "metadata": {},
   "outputs": [],
   "source": [
    "lista = FilaListaEncadeada()\n",
    "lista.enfileirar(1)\n",
    "lista.enfileirar(2)"
   ]
  },
  {
   "cell_type": "code",
   "execution_count": 4,
   "id": "d9e453dd-7891-4be5-b851-eb91fe621c92",
   "metadata": {},
   "outputs": [
    {
     "data": {
      "text/plain": [
       "1"
      ]
     },
     "execution_count": 4,
     "metadata": {},
     "output_type": "execute_result"
    }
   ],
   "source": [
    "lista.ver_inicio()"
   ]
  },
  {
   "cell_type": "code",
   "execution_count": 5,
   "id": "a05a230f-6c64-46cb-b7fc-b4a7d13034fa",
   "metadata": {},
   "outputs": [
    {
     "data": {
      "text/plain": [
       "2"
      ]
     },
     "execution_count": 5,
     "metadata": {},
     "output_type": "execute_result"
    }
   ],
   "source": [
    "lista.desenfileirar()\n",
    "lista.ver_inicio()"
   ]
  },
  {
   "cell_type": "code",
   "execution_count": null,
   "id": "54137dd1-a985-4958-879b-4aee12c3dc36",
   "metadata": {},
   "outputs": [],
   "source": []
  }
 ],
 "metadata": {
  "kernelspec": {
   "display_name": "Python 3 (ipykernel)",
   "language": "python",
   "name": "python3"
  },
  "language_info": {
   "codemirror_mode": {
    "name": "ipython",
    "version": 3
   },
   "file_extension": ".py",
   "mimetype": "text/x-python",
   "name": "python",
   "nbconvert_exporter": "python",
   "pygments_lexer": "ipython3",
   "version": "3.11.0"
  }
 },
 "nbformat": 4,
 "nbformat_minor": 5
}
