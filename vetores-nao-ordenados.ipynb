{
 "cells": [
  {
   "cell_type": "code",
   "execution_count": 6,
   "id": "3c86f848-9461-4f7d-97ce-83844c2448ea",
   "metadata": {},
   "outputs": [],
   "source": [
    "import numpy as np"
   ]
  },
  {
   "cell_type": "markdown",
   "id": "180b974d-c64d-46d5-8198-149c62cd1d7d",
   "metadata": {},
   "source": [
    "## Vertores Não ordenados"
   ]
  },
  {
   "cell_type": "code",
   "execution_count": 21,
   "id": "1dc8c670-19a4-4ea7-8a46-fdba3b10cb79",
   "metadata": {},
   "outputs": [],
   "source": [
    "class VetorNaoOrdenado:\n",
    "    def __init__(self,capacidade):\n",
    "        self.capacidade = capacidade\n",
    "        self.ultima_posicao = -1\n",
    "        self.valores = np.empty(self.capacidade, dtype=int)\n",
    "    \n",
    "    def imprime(self):\n",
    "        if self.ultima_posicao == -1:\n",
    "            print('Vetor Vazio')\n",
    "        else:\n",
    "            for i in range(self.ultima_posicao + 1):\n",
    "                print(i, '-',self.valores[i])\n",
    "                \n",
    "    def insere(self, valor):\n",
    "        if self.ultima_posicao == self.capacidade -1:\n",
    "            print('Capacidade máxima atingida')\n",
    "        else:\n",
    "            self.ultima_posicao += 1\n",
    "            self.valores[self.ultima_posicao] = valor\n",
    "            \n",
    "    def pesquisar(self,valor):\n",
    "        for i in range(self.ultima_posicao +1):\n",
    "            if valor == self.valores[i]:\n",
    "                return i\n",
    "        return -1\n",
    "            \n",
    "    def excluir(self, valor):\n",
    "        posicao = self.pesquisar(valor)\n",
    "        if posicao == -1:\n",
    "            return -1\n",
    "        else:\n",
    "            for i in range(posicao,self.ultima_posicao):\n",
    "                self.valores[i] = self.valores[i+1]\n",
    "            self.ultima_posicao -= 1"
   ]
  },
  {
   "cell_type": "code",
   "execution_count": 27,
   "id": "6d3f16d8-3b0e-4eb1-a273-998355db2c77",
   "metadata": {},
   "outputs": [
    {
     "name": "stdout",
     "output_type": "stream",
     "text": [
      "Vetor Vazio\n"
     ]
    }
   ],
   "source": [
    "vetor = VetorNaoOrdenado(5)\n",
    "vetor.imprime()"
   ]
  },
  {
   "cell_type": "code",
   "execution_count": 28,
   "id": "62a2e395-d15f-4bbe-a4db-6772cc46a2b2",
   "metadata": {},
   "outputs": [
    {
     "name": "stdout",
     "output_type": "stream",
     "text": [
      "0 - 2\n",
      "1 - 4\n",
      "2 - 6\n",
      "3 - 10\n",
      "4 - 13\n"
     ]
    }
   ],
   "source": [
    "vetor.insere(2)\n",
    "vetor.insere(4)\n",
    "vetor.insere(6)\n",
    "vetor.insere(10)\n",
    "vetor.insere(13)\n",
    "vetor.imprime()"
   ]
  },
  {
   "cell_type": "code",
   "execution_count": 29,
   "id": "5c277494-50fb-4b4d-832c-66d06b869b6a",
   "metadata": {},
   "outputs": [
    {
     "data": {
      "text/plain": [
       "3"
      ]
     },
     "execution_count": 29,
     "metadata": {},
     "output_type": "execute_result"
    }
   ],
   "source": [
    "vetor.pesquisar(10)"
   ]
  },
  {
   "cell_type": "code",
   "execution_count": 30,
   "id": "589947da-4876-4b6e-88a3-03ebe5798494",
   "metadata": {},
   "outputs": [
    {
     "name": "stdout",
     "output_type": "stream",
     "text": [
      "0 - 2\n",
      "1 - 4\n",
      "2 - 6\n",
      "3 - 13\n"
     ]
    }
   ],
   "source": [
    "vetor.excluir(10)\n",
    "vetor.imprime()"
   ]
  },
  {
   "cell_type": "code",
   "execution_count": 26,
   "id": "31663bd4-726a-4ea5-b274-bc6a1aa3cb6e",
   "metadata": {},
   "outputs": [
    {
     "name": "stdout",
     "output_type": "stream",
     "text": [
      "0 - 2\n",
      "1 - 4\n",
      "2 - 6\n",
      "3 - 13\n"
     ]
    }
   ],
   "source": []
  },
  {
   "cell_type": "code",
   "execution_count": null,
   "id": "53264fb3-b910-4597-bac3-3ada4c3f458f",
   "metadata": {},
   "outputs": [],
   "source": []
  }
 ],
 "metadata": {
  "kernelspec": {
   "display_name": "Python 3 (ipykernel)",
   "language": "python",
   "name": "python3"
  },
  "language_info": {
   "codemirror_mode": {
    "name": "ipython",
    "version": 3
   },
   "file_extension": ".py",
   "mimetype": "text/x-python",
   "name": "python",
   "nbconvert_exporter": "python",
   "pygments_lexer": "ipython3",
   "version": "3.11.0"
  }
 },
 "nbformat": 4,
 "nbformat_minor": 5
}
